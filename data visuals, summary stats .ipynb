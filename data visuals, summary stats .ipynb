{
 "cells": [
  {
   "cell_type": "code",
   "execution_count": 1,
   "metadata": {},
   "outputs": [],
   "source": [
    "import pandas as pd\n",
    "import numpy as np\n",
    "import matplotlib.pyplot as plt\n",
    "from scipy import stats\n",
    "#importing libraries "
   ]
  },
  {
   "cell_type": "code",
   "execution_count": 2,
   "metadata": {},
   "outputs": [],
   "source": [
    "data = pd.read_csv(\"/Users/tarashabazaz/Downloads/2018_sqf_database-abbr.csv\")\n",
    "#import stop and frisk dataset from the NYPD (2018)"
   ]
  },
  {
   "cell_type": "code",
   "execution_count": 3,
   "metadata": {},
   "outputs": [
    {
     "data": {
      "text/html": [
       "<div>\n",
       "<style scoped>\n",
       "    .dataframe tbody tr th:only-of-type {\n",
       "        vertical-align: middle;\n",
       "    }\n",
       "\n",
       "    .dataframe tbody tr th {\n",
       "        vertical-align: top;\n",
       "    }\n",
       "\n",
       "    .dataframe thead th {\n",
       "        text-align: right;\n",
       "    }\n",
       "</style>\n",
       "<table border=\"1\" class=\"dataframe\">\n",
       "  <thead>\n",
       "    <tr style=\"text-align: right;\">\n",
       "      <th></th>\n",
       "      <th>STOP_FRISK_ID</th>\n",
       "      <th>Stop Frisk Time</th>\n",
       "      <th>YEAR2</th>\n",
       "      <th>MONTH2</th>\n",
       "      <th>DAY2</th>\n",
       "      <th>STOP_WAS_INITIATED</th>\n",
       "      <th>ISSUING_OFFICER_RANK</th>\n",
       "      <th>ISSUING_OFFICER_COMMAND_CODE</th>\n",
       "      <th>SUPERVISING_OFFICER_RANK</th>\n",
       "      <th>SUPERVISING_OFFICER_COMMAND_CODE</th>\n",
       "      <th>...</th>\n",
       "      <th>SUSPECT_SEX</th>\n",
       "      <th>SUSPECT_RACE_DESCRIPTION</th>\n",
       "      <th>SUSPECT_HEIGHT</th>\n",
       "      <th>SUSPECT_WEIGHT</th>\n",
       "      <th>SUSPECT_BODY_BUILD_TYPE</th>\n",
       "      <th>SUSPECT_EYE_COLOR</th>\n",
       "      <th>SUSPECT_HAIR_COLOR</th>\n",
       "      <th>STOP_LOCATION_PRECINCT</th>\n",
       "      <th>STOP_LOCATION_FULL_ADDRESS</th>\n",
       "      <th>STOP_LOCATION_BORO_NAME</th>\n",
       "    </tr>\n",
       "  </thead>\n",
       "  <tbody>\n",
       "    <tr>\n",
       "      <th>0</th>\n",
       "      <td>1</td>\n",
       "      <td>19:04:00</td>\n",
       "      <td>2018</td>\n",
       "      <td>January</td>\n",
       "      <td>Monday</td>\n",
       "      <td>Based on C/W on Scene</td>\n",
       "      <td>POM</td>\n",
       "      <td>1</td>\n",
       "      <td>SGT</td>\n",
       "      <td>1</td>\n",
       "      <td>...</td>\n",
       "      <td>MALE</td>\n",
       "      <td>WHITE</td>\n",
       "      <td>5.10</td>\n",
       "      <td>170.0</td>\n",
       "      <td>MED</td>\n",
       "      <td>BRO</td>\n",
       "      <td>BLK</td>\n",
       "      <td>1</td>\n",
       "      <td>VARICK STREET &amp;&amp; FRANKLIN STREET</td>\n",
       "      <td>MANHATTAN</td>\n",
       "    </tr>\n",
       "    <tr>\n",
       "      <th>1</th>\n",
       "      <td>2</td>\n",
       "      <td>23:00:00</td>\n",
       "      <td>2018</td>\n",
       "      <td>January</td>\n",
       "      <td>Monday</td>\n",
       "      <td>Based on Radio Run</td>\n",
       "      <td>POM</td>\n",
       "      <td>34</td>\n",
       "      <td>SGT</td>\n",
       "      <td>34</td>\n",
       "      <td>...</td>\n",
       "      <td>MALE</td>\n",
       "      <td>BLACK HISPANIC</td>\n",
       "      <td>6.10</td>\n",
       "      <td>250.0</td>\n",
       "      <td>HEA</td>\n",
       "      <td>BRO</td>\n",
       "      <td>BLK</td>\n",
       "      <td>34</td>\n",
       "      <td>DYCKMAN STREET &amp;&amp; POST AVENUE</td>\n",
       "      <td>MANHATTAN</td>\n",
       "    </tr>\n",
       "    <tr>\n",
       "      <th>2</th>\n",
       "      <td>3</td>\n",
       "      <td>23:55:00</td>\n",
       "      <td>2018</td>\n",
       "      <td>January</td>\n",
       "      <td>Monday</td>\n",
       "      <td>Based on Radio Run</td>\n",
       "      <td>POM</td>\n",
       "      <td>808</td>\n",
       "      <td>SGT</td>\n",
       "      <td>808</td>\n",
       "      <td>...</td>\n",
       "      <td>MALE</td>\n",
       "      <td>WHITE HISPANIC</td>\n",
       "      <td>5.50</td>\n",
       "      <td>150.0</td>\n",
       "      <td>THN</td>\n",
       "      <td>BRO</td>\n",
       "      <td>BLD</td>\n",
       "      <td>43</td>\n",
       "      <td>2245 RANDALL AVENUE</td>\n",
       "      <td>BRONX</td>\n",
       "    </tr>\n",
       "    <tr>\n",
       "      <th>3</th>\n",
       "      <td>4</td>\n",
       "      <td>3:23:00</td>\n",
       "      <td>2018</td>\n",
       "      <td>January</td>\n",
       "      <td>Monday</td>\n",
       "      <td>Based on Radio Run</td>\n",
       "      <td>POM</td>\n",
       "      <td>63</td>\n",
       "      <td>SGT</td>\n",
       "      <td>63</td>\n",
       "      <td>...</td>\n",
       "      <td>MALE</td>\n",
       "      <td>AMERICAN INDIAN/ALASKAN NATIVE</td>\n",
       "      <td>5.10</td>\n",
       "      <td>160.0</td>\n",
       "      <td>MED</td>\n",
       "      <td>BRO</td>\n",
       "      <td>BLK</td>\n",
       "      <td>63</td>\n",
       "      <td>EAST 38 STREET &amp;&amp; AVENUE L</td>\n",
       "      <td>BROOKLYN</td>\n",
       "    </tr>\n",
       "    <tr>\n",
       "      <th>4</th>\n",
       "      <td>5</td>\n",
       "      <td>3:23:00</td>\n",
       "      <td>2018</td>\n",
       "      <td>January</td>\n",
       "      <td>Monday</td>\n",
       "      <td>Based on Radio Run</td>\n",
       "      <td>POM</td>\n",
       "      <td>63</td>\n",
       "      <td>SGT</td>\n",
       "      <td>63</td>\n",
       "      <td>...</td>\n",
       "      <td>MALE</td>\n",
       "      <td>WHITE</td>\n",
       "      <td>5.11</td>\n",
       "      <td>230.0</td>\n",
       "      <td>MED</td>\n",
       "      <td>BRO</td>\n",
       "      <td>BLK</td>\n",
       "      <td>63</td>\n",
       "      <td>EAST 38 STREET &amp;&amp; AVENUE L</td>\n",
       "      <td>BROOKLYN</td>\n",
       "    </tr>\n",
       "    <tr>\n",
       "      <th>...</th>\n",
       "      <td>...</td>\n",
       "      <td>...</td>\n",
       "      <td>...</td>\n",
       "      <td>...</td>\n",
       "      <td>...</td>\n",
       "      <td>...</td>\n",
       "      <td>...</td>\n",
       "      <td>...</td>\n",
       "      <td>...</td>\n",
       "      <td>...</td>\n",
       "      <td>...</td>\n",
       "      <td>...</td>\n",
       "      <td>...</td>\n",
       "      <td>...</td>\n",
       "      <td>...</td>\n",
       "      <td>...</td>\n",
       "      <td>...</td>\n",
       "      <td>...</td>\n",
       "      <td>...</td>\n",
       "      <td>...</td>\n",
       "      <td>...</td>\n",
       "    </tr>\n",
       "    <tr>\n",
       "      <th>11003</th>\n",
       "      <td>11004</td>\n",
       "      <td>12:43:00</td>\n",
       "      <td>2018</td>\n",
       "      <td>December</td>\n",
       "      <td>Monday</td>\n",
       "      <td>Based on Radio Run</td>\n",
       "      <td>POM</td>\n",
       "      <td>121</td>\n",
       "      <td>SGT</td>\n",
       "      <td>121</td>\n",
       "      <td>...</td>\n",
       "      <td>MALE</td>\n",
       "      <td>BLACK</td>\n",
       "      <td>5.11</td>\n",
       "      <td>170.0</td>\n",
       "      <td>THN</td>\n",
       "      <td>BRO</td>\n",
       "      <td>BLD</td>\n",
       "      <td>121</td>\n",
       "      <td>2321 FOREST AVENUE</td>\n",
       "      <td>STATEN ISLAND</td>\n",
       "    </tr>\n",
       "    <tr>\n",
       "      <th>11004</th>\n",
       "      <td>11005</td>\n",
       "      <td>23:20:00</td>\n",
       "      <td>2018</td>\n",
       "      <td>December</td>\n",
       "      <td>Monday</td>\n",
       "      <td>Based on Radio Run</td>\n",
       "      <td>POM</td>\n",
       "      <td>32</td>\n",
       "      <td>LT</td>\n",
       "      <td>32</td>\n",
       "      <td>...</td>\n",
       "      <td>MALE</td>\n",
       "      <td>BLACK HISPANIC</td>\n",
       "      <td>5.10</td>\n",
       "      <td>170.0</td>\n",
       "      <td>THN</td>\n",
       "      <td>BRO</td>\n",
       "      <td>BLK</td>\n",
       "      <td>32</td>\n",
       "      <td>WEST 145 STREET &amp;&amp; 7 AVENUE</td>\n",
       "      <td>MANHATTAN</td>\n",
       "    </tr>\n",
       "    <tr>\n",
       "      <th>11005</th>\n",
       "      <td>11006</td>\n",
       "      <td>23:20:00</td>\n",
       "      <td>2018</td>\n",
       "      <td>December</td>\n",
       "      <td>Monday</td>\n",
       "      <td>Based on Radio Run</td>\n",
       "      <td>POM</td>\n",
       "      <td>32</td>\n",
       "      <td>LT</td>\n",
       "      <td>32</td>\n",
       "      <td>...</td>\n",
       "      <td>MALE</td>\n",
       "      <td>BLACK HISPANIC</td>\n",
       "      <td>5.40</td>\n",
       "      <td>140.0</td>\n",
       "      <td>THN</td>\n",
       "      <td>BRO</td>\n",
       "      <td>BLK</td>\n",
       "      <td>32</td>\n",
       "      <td>WEST 145 STREET &amp;&amp; 7 AVENUE</td>\n",
       "      <td>MANHATTAN</td>\n",
       "    </tr>\n",
       "    <tr>\n",
       "      <th>11006</th>\n",
       "      <td>11007</td>\n",
       "      <td>23:20:00</td>\n",
       "      <td>2018</td>\n",
       "      <td>December</td>\n",
       "      <td>Monday</td>\n",
       "      <td>Based on Radio Run</td>\n",
       "      <td>POM</td>\n",
       "      <td>32</td>\n",
       "      <td>LT</td>\n",
       "      <td>32</td>\n",
       "      <td>...</td>\n",
       "      <td>MALE</td>\n",
       "      <td>BLACK HISPANIC</td>\n",
       "      <td>5.40</td>\n",
       "      <td>130.0</td>\n",
       "      <td>THN</td>\n",
       "      <td>BRO</td>\n",
       "      <td>BLK</td>\n",
       "      <td>32</td>\n",
       "      <td>WEST 145 STREET &amp;&amp; 7 AVENUE</td>\n",
       "      <td>MANHATTAN</td>\n",
       "    </tr>\n",
       "    <tr>\n",
       "      <th>11007</th>\n",
       "      <td>11008</td>\n",
       "      <td>22:43:00</td>\n",
       "      <td>2018</td>\n",
       "      <td>December</td>\n",
       "      <td>Monday</td>\n",
       "      <td>Based on Radio Run</td>\n",
       "      <td>POM</td>\n",
       "      <td>803</td>\n",
       "      <td>SGT</td>\n",
       "      <td>803</td>\n",
       "      <td>...</td>\n",
       "      <td>MALE</td>\n",
       "      <td>BLACK</td>\n",
       "      <td>5.10</td>\n",
       "      <td>145.0</td>\n",
       "      <td>THN</td>\n",
       "      <td>BRO</td>\n",
       "      <td>BLK</td>\n",
       "      <td>79</td>\n",
       "      <td>505 GATES AVENUE</td>\n",
       "      <td>BROOKLYN</td>\n",
       "    </tr>\n",
       "  </tbody>\n",
       "</table>\n",
       "<p>11008 rows × 59 columns</p>\n",
       "</div>"
      ],
      "text/plain": [
       "       STOP_FRISK_ID Stop Frisk Time  YEAR2    MONTH2    DAY2  \\\n",
       "0                  1        19:04:00   2018   January  Monday   \n",
       "1                  2        23:00:00   2018   January  Monday   \n",
       "2                  3        23:55:00   2018   January  Monday   \n",
       "3                  4         3:23:00   2018   January  Monday   \n",
       "4                  5         3:23:00   2018   January  Monday   \n",
       "...              ...             ...    ...       ...     ...   \n",
       "11003          11004        12:43:00   2018  December  Monday   \n",
       "11004          11005        23:20:00   2018  December  Monday   \n",
       "11005          11006        23:20:00   2018  December  Monday   \n",
       "11006          11007        23:20:00   2018  December  Monday   \n",
       "11007          11008        22:43:00   2018  December  Monday   \n",
       "\n",
       "          STOP_WAS_INITIATED ISSUING_OFFICER_RANK  \\\n",
       "0      Based on C/W on Scene                  POM   \n",
       "1         Based on Radio Run                  POM   \n",
       "2         Based on Radio Run                  POM   \n",
       "3         Based on Radio Run                  POM   \n",
       "4         Based on Radio Run                  POM   \n",
       "...                      ...                  ...   \n",
       "11003     Based on Radio Run                  POM   \n",
       "11004     Based on Radio Run                  POM   \n",
       "11005     Based on Radio Run                  POM   \n",
       "11006     Based on Radio Run                  POM   \n",
       "11007     Based on Radio Run                  POM   \n",
       "\n",
       "       ISSUING_OFFICER_COMMAND_CODE SUPERVISING_OFFICER_RANK  \\\n",
       "0                                 1                      SGT   \n",
       "1                                34                      SGT   \n",
       "2                               808                      SGT   \n",
       "3                                63                      SGT   \n",
       "4                                63                      SGT   \n",
       "...                             ...                      ...   \n",
       "11003                           121                      SGT   \n",
       "11004                            32                       LT   \n",
       "11005                            32                       LT   \n",
       "11006                            32                       LT   \n",
       "11007                           803                      SGT   \n",
       "\n",
       "       SUPERVISING_OFFICER_COMMAND_CODE  ...  SUSPECT_SEX  \\\n",
       "0                                     1  ...         MALE   \n",
       "1                                    34  ...         MALE   \n",
       "2                                   808  ...         MALE   \n",
       "3                                    63  ...         MALE   \n",
       "4                                    63  ...         MALE   \n",
       "...                                 ...  ...          ...   \n",
       "11003                               121  ...         MALE   \n",
       "11004                                32  ...         MALE   \n",
       "11005                                32  ...         MALE   \n",
       "11006                                32  ...         MALE   \n",
       "11007                               803  ...         MALE   \n",
       "\n",
       "             SUSPECT_RACE_DESCRIPTION  SUSPECT_HEIGHT  SUSPECT_WEIGHT  \\\n",
       "0                               WHITE            5.10           170.0   \n",
       "1                      BLACK HISPANIC            6.10           250.0   \n",
       "2                      WHITE HISPANIC            5.50           150.0   \n",
       "3      AMERICAN INDIAN/ALASKAN NATIVE            5.10           160.0   \n",
       "4                               WHITE            5.11           230.0   \n",
       "...                               ...             ...             ...   \n",
       "11003                           BLACK            5.11           170.0   \n",
       "11004                  BLACK HISPANIC            5.10           170.0   \n",
       "11005                  BLACK HISPANIC            5.40           140.0   \n",
       "11006                  BLACK HISPANIC            5.40           130.0   \n",
       "11007                           BLACK            5.10           145.0   \n",
       "\n",
       "      SUSPECT_BODY_BUILD_TYPE  SUSPECT_EYE_COLOR SUSPECT_HAIR_COLOR  \\\n",
       "0                         MED                BRO                BLK   \n",
       "1                         HEA                BRO                BLK   \n",
       "2                         THN                BRO                BLD   \n",
       "3                         MED                BRO                BLK   \n",
       "4                         MED                BRO                BLK   \n",
       "...                       ...                ...                ...   \n",
       "11003                     THN                BRO                BLD   \n",
       "11004                     THN                BRO                BLK   \n",
       "11005                     THN                BRO                BLK   \n",
       "11006                     THN                BRO                BLK   \n",
       "11007                     THN                BRO                BLK   \n",
       "\n",
       "       STOP_LOCATION_PRECINCT        STOP_LOCATION_FULL_ADDRESS  \\\n",
       "0                           1  VARICK STREET && FRANKLIN STREET   \n",
       "1                          34     DYCKMAN STREET && POST AVENUE   \n",
       "2                          43               2245 RANDALL AVENUE   \n",
       "3                          63        EAST 38 STREET && AVENUE L   \n",
       "4                          63        EAST 38 STREET && AVENUE L   \n",
       "...                       ...                               ...   \n",
       "11003                     121                2321 FOREST AVENUE   \n",
       "11004                      32       WEST 145 STREET && 7 AVENUE   \n",
       "11005                      32       WEST 145 STREET && 7 AVENUE   \n",
       "11006                      32       WEST 145 STREET && 7 AVENUE   \n",
       "11007                      79                  505 GATES AVENUE   \n",
       "\n",
       "       STOP_LOCATION_BORO_NAME  \n",
       "0                    MANHATTAN  \n",
       "1                    MANHATTAN  \n",
       "2                        BRONX  \n",
       "3                     BROOKLYN  \n",
       "4                     BROOKLYN  \n",
       "...                        ...  \n",
       "11003            STATEN ISLAND  \n",
       "11004                MANHATTAN  \n",
       "11005                MANHATTAN  \n",
       "11006                MANHATTAN  \n",
       "11007                 BROOKLYN  \n",
       "\n",
       "[11008 rows x 59 columns]"
      ]
     },
     "execution_count": 3,
     "metadata": {},
     "output_type": "execute_result"
    }
   ],
   "source": [
    "data \n",
    "#let's preview the dataset"
   ]
  },
  {
   "cell_type": "code",
   "execution_count": 4,
   "metadata": {},
   "outputs": [],
   "source": [
    "df = data.dropna(subset=['SUSPECT_RACE_DESCRIPTION'])\n",
    "#dropping any stops that have missing info in the race column"
   ]
  },
  {
   "cell_type": "code",
   "execution_count": 5,
   "metadata": {},
   "outputs": [
    {
     "data": {
      "text/html": [
       "<div>\n",
       "<style scoped>\n",
       "    .dataframe tbody tr th:only-of-type {\n",
       "        vertical-align: middle;\n",
       "    }\n",
       "\n",
       "    .dataframe tbody tr th {\n",
       "        vertical-align: top;\n",
       "    }\n",
       "\n",
       "    .dataframe thead th {\n",
       "        text-align: right;\n",
       "    }\n",
       "</style>\n",
       "<table border=\"1\" class=\"dataframe\">\n",
       "  <thead>\n",
       "    <tr style=\"text-align: right;\">\n",
       "      <th></th>\n",
       "      <th>STOP_FRISK_ID</th>\n",
       "      <th>Stop Frisk Time</th>\n",
       "      <th>YEAR2</th>\n",
       "      <th>MONTH2</th>\n",
       "      <th>DAY2</th>\n",
       "      <th>STOP_WAS_INITIATED</th>\n",
       "      <th>ISSUING_OFFICER_RANK</th>\n",
       "      <th>ISSUING_OFFICER_COMMAND_CODE</th>\n",
       "      <th>SUPERVISING_OFFICER_RANK</th>\n",
       "      <th>SUPERVISING_OFFICER_COMMAND_CODE</th>\n",
       "      <th>...</th>\n",
       "      <th>SUSPECT_SEX</th>\n",
       "      <th>SUSPECT_RACE_DESCRIPTION</th>\n",
       "      <th>SUSPECT_HEIGHT</th>\n",
       "      <th>SUSPECT_WEIGHT</th>\n",
       "      <th>SUSPECT_BODY_BUILD_TYPE</th>\n",
       "      <th>SUSPECT_EYE_COLOR</th>\n",
       "      <th>SUSPECT_HAIR_COLOR</th>\n",
       "      <th>STOP_LOCATION_PRECINCT</th>\n",
       "      <th>STOP_LOCATION_FULL_ADDRESS</th>\n",
       "      <th>STOP_LOCATION_BORO_NAME</th>\n",
       "    </tr>\n",
       "  </thead>\n",
       "  <tbody>\n",
       "    <tr>\n",
       "      <th>0</th>\n",
       "      <td>1</td>\n",
       "      <td>19:04:00</td>\n",
       "      <td>2018</td>\n",
       "      <td>January</td>\n",
       "      <td>Monday</td>\n",
       "      <td>Based on C/W on Scene</td>\n",
       "      <td>POM</td>\n",
       "      <td>1</td>\n",
       "      <td>SGT</td>\n",
       "      <td>1</td>\n",
       "      <td>...</td>\n",
       "      <td>MALE</td>\n",
       "      <td>WHITE</td>\n",
       "      <td>5.10</td>\n",
       "      <td>170.0</td>\n",
       "      <td>MED</td>\n",
       "      <td>BRO</td>\n",
       "      <td>BLK</td>\n",
       "      <td>1</td>\n",
       "      <td>VARICK STREET &amp;&amp; FRANKLIN STREET</td>\n",
       "      <td>MANHATTAN</td>\n",
       "    </tr>\n",
       "    <tr>\n",
       "      <th>1</th>\n",
       "      <td>2</td>\n",
       "      <td>23:00:00</td>\n",
       "      <td>2018</td>\n",
       "      <td>January</td>\n",
       "      <td>Monday</td>\n",
       "      <td>Based on Radio Run</td>\n",
       "      <td>POM</td>\n",
       "      <td>34</td>\n",
       "      <td>SGT</td>\n",
       "      <td>34</td>\n",
       "      <td>...</td>\n",
       "      <td>MALE</td>\n",
       "      <td>BLACK HISPANIC</td>\n",
       "      <td>6.10</td>\n",
       "      <td>250.0</td>\n",
       "      <td>HEA</td>\n",
       "      <td>BRO</td>\n",
       "      <td>BLK</td>\n",
       "      <td>34</td>\n",
       "      <td>DYCKMAN STREET &amp;&amp; POST AVENUE</td>\n",
       "      <td>MANHATTAN</td>\n",
       "    </tr>\n",
       "    <tr>\n",
       "      <th>2</th>\n",
       "      <td>3</td>\n",
       "      <td>23:55:00</td>\n",
       "      <td>2018</td>\n",
       "      <td>January</td>\n",
       "      <td>Monday</td>\n",
       "      <td>Based on Radio Run</td>\n",
       "      <td>POM</td>\n",
       "      <td>808</td>\n",
       "      <td>SGT</td>\n",
       "      <td>808</td>\n",
       "      <td>...</td>\n",
       "      <td>MALE</td>\n",
       "      <td>WHITE HISPANIC</td>\n",
       "      <td>5.50</td>\n",
       "      <td>150.0</td>\n",
       "      <td>THN</td>\n",
       "      <td>BRO</td>\n",
       "      <td>BLD</td>\n",
       "      <td>43</td>\n",
       "      <td>2245 RANDALL AVENUE</td>\n",
       "      <td>BRONX</td>\n",
       "    </tr>\n",
       "    <tr>\n",
       "      <th>3</th>\n",
       "      <td>4</td>\n",
       "      <td>3:23:00</td>\n",
       "      <td>2018</td>\n",
       "      <td>January</td>\n",
       "      <td>Monday</td>\n",
       "      <td>Based on Radio Run</td>\n",
       "      <td>POM</td>\n",
       "      <td>63</td>\n",
       "      <td>SGT</td>\n",
       "      <td>63</td>\n",
       "      <td>...</td>\n",
       "      <td>MALE</td>\n",
       "      <td>AMERICAN INDIAN/ALASKAN NATIVE</td>\n",
       "      <td>5.10</td>\n",
       "      <td>160.0</td>\n",
       "      <td>MED</td>\n",
       "      <td>BRO</td>\n",
       "      <td>BLK</td>\n",
       "      <td>63</td>\n",
       "      <td>EAST 38 STREET &amp;&amp; AVENUE L</td>\n",
       "      <td>BROOKLYN</td>\n",
       "    </tr>\n",
       "    <tr>\n",
       "      <th>4</th>\n",
       "      <td>5</td>\n",
       "      <td>3:23:00</td>\n",
       "      <td>2018</td>\n",
       "      <td>January</td>\n",
       "      <td>Monday</td>\n",
       "      <td>Based on Radio Run</td>\n",
       "      <td>POM</td>\n",
       "      <td>63</td>\n",
       "      <td>SGT</td>\n",
       "      <td>63</td>\n",
       "      <td>...</td>\n",
       "      <td>MALE</td>\n",
       "      <td>WHITE</td>\n",
       "      <td>5.11</td>\n",
       "      <td>230.0</td>\n",
       "      <td>MED</td>\n",
       "      <td>BRO</td>\n",
       "      <td>BLK</td>\n",
       "      <td>63</td>\n",
       "      <td>EAST 38 STREET &amp;&amp; AVENUE L</td>\n",
       "      <td>BROOKLYN</td>\n",
       "    </tr>\n",
       "    <tr>\n",
       "      <th>...</th>\n",
       "      <td>...</td>\n",
       "      <td>...</td>\n",
       "      <td>...</td>\n",
       "      <td>...</td>\n",
       "      <td>...</td>\n",
       "      <td>...</td>\n",
       "      <td>...</td>\n",
       "      <td>...</td>\n",
       "      <td>...</td>\n",
       "      <td>...</td>\n",
       "      <td>...</td>\n",
       "      <td>...</td>\n",
       "      <td>...</td>\n",
       "      <td>...</td>\n",
       "      <td>...</td>\n",
       "      <td>...</td>\n",
       "      <td>...</td>\n",
       "      <td>...</td>\n",
       "      <td>...</td>\n",
       "      <td>...</td>\n",
       "      <td>...</td>\n",
       "    </tr>\n",
       "    <tr>\n",
       "      <th>11003</th>\n",
       "      <td>11004</td>\n",
       "      <td>12:43:00</td>\n",
       "      <td>2018</td>\n",
       "      <td>December</td>\n",
       "      <td>Monday</td>\n",
       "      <td>Based on Radio Run</td>\n",
       "      <td>POM</td>\n",
       "      <td>121</td>\n",
       "      <td>SGT</td>\n",
       "      <td>121</td>\n",
       "      <td>...</td>\n",
       "      <td>MALE</td>\n",
       "      <td>BLACK</td>\n",
       "      <td>5.11</td>\n",
       "      <td>170.0</td>\n",
       "      <td>THN</td>\n",
       "      <td>BRO</td>\n",
       "      <td>BLD</td>\n",
       "      <td>121</td>\n",
       "      <td>2321 FOREST AVENUE</td>\n",
       "      <td>STATEN ISLAND</td>\n",
       "    </tr>\n",
       "    <tr>\n",
       "      <th>11004</th>\n",
       "      <td>11005</td>\n",
       "      <td>23:20:00</td>\n",
       "      <td>2018</td>\n",
       "      <td>December</td>\n",
       "      <td>Monday</td>\n",
       "      <td>Based on Radio Run</td>\n",
       "      <td>POM</td>\n",
       "      <td>32</td>\n",
       "      <td>LT</td>\n",
       "      <td>32</td>\n",
       "      <td>...</td>\n",
       "      <td>MALE</td>\n",
       "      <td>BLACK HISPANIC</td>\n",
       "      <td>5.10</td>\n",
       "      <td>170.0</td>\n",
       "      <td>THN</td>\n",
       "      <td>BRO</td>\n",
       "      <td>BLK</td>\n",
       "      <td>32</td>\n",
       "      <td>WEST 145 STREET &amp;&amp; 7 AVENUE</td>\n",
       "      <td>MANHATTAN</td>\n",
       "    </tr>\n",
       "    <tr>\n",
       "      <th>11005</th>\n",
       "      <td>11006</td>\n",
       "      <td>23:20:00</td>\n",
       "      <td>2018</td>\n",
       "      <td>December</td>\n",
       "      <td>Monday</td>\n",
       "      <td>Based on Radio Run</td>\n",
       "      <td>POM</td>\n",
       "      <td>32</td>\n",
       "      <td>LT</td>\n",
       "      <td>32</td>\n",
       "      <td>...</td>\n",
       "      <td>MALE</td>\n",
       "      <td>BLACK HISPANIC</td>\n",
       "      <td>5.40</td>\n",
       "      <td>140.0</td>\n",
       "      <td>THN</td>\n",
       "      <td>BRO</td>\n",
       "      <td>BLK</td>\n",
       "      <td>32</td>\n",
       "      <td>WEST 145 STREET &amp;&amp; 7 AVENUE</td>\n",
       "      <td>MANHATTAN</td>\n",
       "    </tr>\n",
       "    <tr>\n",
       "      <th>11006</th>\n",
       "      <td>11007</td>\n",
       "      <td>23:20:00</td>\n",
       "      <td>2018</td>\n",
       "      <td>December</td>\n",
       "      <td>Monday</td>\n",
       "      <td>Based on Radio Run</td>\n",
       "      <td>POM</td>\n",
       "      <td>32</td>\n",
       "      <td>LT</td>\n",
       "      <td>32</td>\n",
       "      <td>...</td>\n",
       "      <td>MALE</td>\n",
       "      <td>BLACK HISPANIC</td>\n",
       "      <td>5.40</td>\n",
       "      <td>130.0</td>\n",
       "      <td>THN</td>\n",
       "      <td>BRO</td>\n",
       "      <td>BLK</td>\n",
       "      <td>32</td>\n",
       "      <td>WEST 145 STREET &amp;&amp; 7 AVENUE</td>\n",
       "      <td>MANHATTAN</td>\n",
       "    </tr>\n",
       "    <tr>\n",
       "      <th>11007</th>\n",
       "      <td>11008</td>\n",
       "      <td>22:43:00</td>\n",
       "      <td>2018</td>\n",
       "      <td>December</td>\n",
       "      <td>Monday</td>\n",
       "      <td>Based on Radio Run</td>\n",
       "      <td>POM</td>\n",
       "      <td>803</td>\n",
       "      <td>SGT</td>\n",
       "      <td>803</td>\n",
       "      <td>...</td>\n",
       "      <td>MALE</td>\n",
       "      <td>BLACK</td>\n",
       "      <td>5.10</td>\n",
       "      <td>145.0</td>\n",
       "      <td>THN</td>\n",
       "      <td>BRO</td>\n",
       "      <td>BLK</td>\n",
       "      <td>79</td>\n",
       "      <td>505 GATES AVENUE</td>\n",
       "      <td>BROOKLYN</td>\n",
       "    </tr>\n",
       "  </tbody>\n",
       "</table>\n",
       "<p>11008 rows × 59 columns</p>\n",
       "</div>"
      ],
      "text/plain": [
       "       STOP_FRISK_ID Stop Frisk Time  YEAR2    MONTH2    DAY2  \\\n",
       "0                  1        19:04:00   2018   January  Monday   \n",
       "1                  2        23:00:00   2018   January  Monday   \n",
       "2                  3        23:55:00   2018   January  Monday   \n",
       "3                  4         3:23:00   2018   January  Monday   \n",
       "4                  5         3:23:00   2018   January  Monday   \n",
       "...              ...             ...    ...       ...     ...   \n",
       "11003          11004        12:43:00   2018  December  Monday   \n",
       "11004          11005        23:20:00   2018  December  Monday   \n",
       "11005          11006        23:20:00   2018  December  Monday   \n",
       "11006          11007        23:20:00   2018  December  Monday   \n",
       "11007          11008        22:43:00   2018  December  Monday   \n",
       "\n",
       "          STOP_WAS_INITIATED ISSUING_OFFICER_RANK  \\\n",
       "0      Based on C/W on Scene                  POM   \n",
       "1         Based on Radio Run                  POM   \n",
       "2         Based on Radio Run                  POM   \n",
       "3         Based on Radio Run                  POM   \n",
       "4         Based on Radio Run                  POM   \n",
       "...                      ...                  ...   \n",
       "11003     Based on Radio Run                  POM   \n",
       "11004     Based on Radio Run                  POM   \n",
       "11005     Based on Radio Run                  POM   \n",
       "11006     Based on Radio Run                  POM   \n",
       "11007     Based on Radio Run                  POM   \n",
       "\n",
       "       ISSUING_OFFICER_COMMAND_CODE SUPERVISING_OFFICER_RANK  \\\n",
       "0                                 1                      SGT   \n",
       "1                                34                      SGT   \n",
       "2                               808                      SGT   \n",
       "3                                63                      SGT   \n",
       "4                                63                      SGT   \n",
       "...                             ...                      ...   \n",
       "11003                           121                      SGT   \n",
       "11004                            32                       LT   \n",
       "11005                            32                       LT   \n",
       "11006                            32                       LT   \n",
       "11007                           803                      SGT   \n",
       "\n",
       "       SUPERVISING_OFFICER_COMMAND_CODE  ...  SUSPECT_SEX  \\\n",
       "0                                     1  ...         MALE   \n",
       "1                                    34  ...         MALE   \n",
       "2                                   808  ...         MALE   \n",
       "3                                    63  ...         MALE   \n",
       "4                                    63  ...         MALE   \n",
       "...                                 ...  ...          ...   \n",
       "11003                               121  ...         MALE   \n",
       "11004                                32  ...         MALE   \n",
       "11005                                32  ...         MALE   \n",
       "11006                                32  ...         MALE   \n",
       "11007                               803  ...         MALE   \n",
       "\n",
       "             SUSPECT_RACE_DESCRIPTION  SUSPECT_HEIGHT  SUSPECT_WEIGHT  \\\n",
       "0                               WHITE            5.10           170.0   \n",
       "1                      BLACK HISPANIC            6.10           250.0   \n",
       "2                      WHITE HISPANIC            5.50           150.0   \n",
       "3      AMERICAN INDIAN/ALASKAN NATIVE            5.10           160.0   \n",
       "4                               WHITE            5.11           230.0   \n",
       "...                               ...             ...             ...   \n",
       "11003                           BLACK            5.11           170.0   \n",
       "11004                  BLACK HISPANIC            5.10           170.0   \n",
       "11005                  BLACK HISPANIC            5.40           140.0   \n",
       "11006                  BLACK HISPANIC            5.40           130.0   \n",
       "11007                           BLACK            5.10           145.0   \n",
       "\n",
       "      SUSPECT_BODY_BUILD_TYPE  SUSPECT_EYE_COLOR SUSPECT_HAIR_COLOR  \\\n",
       "0                         MED                BRO                BLK   \n",
       "1                         HEA                BRO                BLK   \n",
       "2                         THN                BRO                BLD   \n",
       "3                         MED                BRO                BLK   \n",
       "4                         MED                BRO                BLK   \n",
       "...                       ...                ...                ...   \n",
       "11003                     THN                BRO                BLD   \n",
       "11004                     THN                BRO                BLK   \n",
       "11005                     THN                BRO                BLK   \n",
       "11006                     THN                BRO                BLK   \n",
       "11007                     THN                BRO                BLK   \n",
       "\n",
       "       STOP_LOCATION_PRECINCT        STOP_LOCATION_FULL_ADDRESS  \\\n",
       "0                           1  VARICK STREET && FRANKLIN STREET   \n",
       "1                          34     DYCKMAN STREET && POST AVENUE   \n",
       "2                          43               2245 RANDALL AVENUE   \n",
       "3                          63        EAST 38 STREET && AVENUE L   \n",
       "4                          63        EAST 38 STREET && AVENUE L   \n",
       "...                       ...                               ...   \n",
       "11003                     121                2321 FOREST AVENUE   \n",
       "11004                      32       WEST 145 STREET && 7 AVENUE   \n",
       "11005                      32       WEST 145 STREET && 7 AVENUE   \n",
       "11006                      32       WEST 145 STREET && 7 AVENUE   \n",
       "11007                      79                  505 GATES AVENUE   \n",
       "\n",
       "       STOP_LOCATION_BORO_NAME  \n",
       "0                    MANHATTAN  \n",
       "1                    MANHATTAN  \n",
       "2                        BRONX  \n",
       "3                     BROOKLYN  \n",
       "4                     BROOKLYN  \n",
       "...                        ...  \n",
       "11003            STATEN ISLAND  \n",
       "11004                MANHATTAN  \n",
       "11005                MANHATTAN  \n",
       "11006                MANHATTAN  \n",
       "11007                 BROOKLYN  \n",
       "\n",
       "[11008 rows x 59 columns]"
      ]
     },
     "execution_count": 5,
     "metadata": {},
     "output_type": "execute_result"
    }
   ],
   "source": [
    "df\n",
    "#looking at the dataset again, we see we didn't lose any stops and still have 11008 rows"
   ]
  },
  {
   "cell_type": "code",
   "execution_count": 6,
   "metadata": {},
   "outputs": [
    {
     "data": {
      "text/plain": [
       "BLACK                             6241\n",
       "WHITE HISPANIC                    2411\n",
       "WHITE                             1074\n",
       "BLACK HISPANIC                     978\n",
       "ASIAN / PACIFIC ISLANDER           221\n",
       "0                                   67\n",
       "AMERICAN INDIAN/ALASKAN NATIVE      16\n",
       "Name: SUSPECT_RACE_DESCRIPTION, dtype: int64"
      ]
     },
     "execution_count": 6,
     "metadata": {},
     "output_type": "execute_result"
    }
   ],
   "source": [
    "df['SUSPECT_RACE_DESCRIPTION'].value_counts()\n",
    "#see the amount of each race"
   ]
  },
  {
   "cell_type": "code",
   "execution_count": 7,
   "metadata": {},
   "outputs": [],
   "source": [
    "df.drop(df[df['SUSPECT_RACE_DESCRIPTION'] == '0'].index, inplace = True)\n",
    "#because the stops where the race is unknown listed race as \"0\",not as NaN, I want to drop those with \"0\""
   ]
  },
  {
   "cell_type": "code",
   "execution_count": 8,
   "metadata": {},
   "outputs": [
    {
     "data": {
      "text/plain": [
       "BLACK                             6241\n",
       "WHITE HISPANIC                    2411\n",
       "WHITE                             1074\n",
       "BLACK HISPANIC                     978\n",
       "ASIAN / PACIFIC ISLANDER           221\n",
       "AMERICAN INDIAN/ALASKAN NATIVE      16\n",
       "Name: SUSPECT_RACE_DESCRIPTION, dtype: int64"
      ]
     },
     "execution_count": 8,
     "metadata": {},
     "output_type": "execute_result"
    }
   ],
   "source": [
    "df['SUSPECT_RACE_DESCRIPTION'].value_counts()\n",
    "#now we see we've removed the data points with unknown race"
   ]
  },
  {
   "cell_type": "code",
   "execution_count": 9,
   "metadata": {},
   "outputs": [
    {
     "data": {
      "text/plain": [
       "10941"
      ]
     },
     "execution_count": 9,
     "metadata": {},
     "output_type": "execute_result"
    }
   ],
   "source": [
    "len(df['SUSPECT_RACE_DESCRIPTION'])\n",
    "#let's see how many stops we are left with "
   ]
  },
  {
   "cell_type": "code",
   "execution_count": 10,
   "metadata": {},
   "outputs": [],
   "source": [
    "#determining the proportion of stops that were conducted on Black people: first we need the function \n",
    "#to find proportion along with its CI \n",
    "def CI_prop(s, n):\n",
    "    p = s / n\n",
    "    se2 = p * (1-p) / n\n",
    "    se = np.sqrt(se2)\n",
    "    low = p - 1.96 * se\n",
    "    up = p + 1.96 * se\n",
    "    print('Sample proportion is:', p)\n",
    "    print('95% CI is: ({}, {})'.format(low, up))"
   ]
  },
  {
   "cell_type": "code",
   "execution_count": 11,
   "metadata": {},
   "outputs": [
    {
     "name": "stdout",
     "output_type": "stream",
     "text": [
      "Sample proportion is: 0.5704231788684764\n",
      "95% CI is: (0.5611474816328043, 0.5796988761041485)\n"
     ]
    }
   ],
   "source": [
    "#the first number is the stops for Black  individuals, then divided by how many stops from \n",
    "# len(df['SUSPECT_RACE_DESCRIPTION']) above \n",
    "CI_prop(6241, 10941)"
   ]
  },
  {
   "cell_type": "code",
   "execution_count": 12,
   "metadata": {},
   "outputs": [
    {
     "name": "stdout",
     "output_type": "stream",
     "text": [
      "Sample proportion is: 0.309752307832922\n",
      "95% CI is: (0.3010879312610737, 0.31841668440477033)\n"
     ]
    }
   ],
   "source": [
    "#now proportion of stops conducted on Hispanic people (combined white Hispanic and Black Hispanic)\n",
    "CI_prop(3389, 10941)"
   ]
  },
  {
   "cell_type": "code",
   "execution_count": 13,
   "metadata": {},
   "outputs": [
    {
     "name": "stdout",
     "output_type": "stream",
     "text": [
      "Sample proportion is: 0.0981628735947354\n",
      "95% CI is: (0.09258761200610752, 0.10373813518336328)\n"
     ]
    }
   ],
   "source": [
    "#now proportion of stops of white individuals \n",
    "CI_prop(1074, 10941)"
   ]
  },
  {
   "cell_type": "code",
   "execution_count": 14,
   "metadata": {},
   "outputs": [
    {
     "name": "stdout",
     "output_type": "stream",
     "text": [
      "BLACK                             0.570423\n",
      "WHITE HISPANIC                    0.220364\n",
      "WHITE                             0.098163\n",
      "BLACK HISPANIC                    0.089389\n",
      "ASIAN / PACIFIC ISLANDER          0.020199\n",
      "AMERICAN INDIAN/ALASKAN NATIVE    0.001462\n",
      "Name: SUSPECT_RACE_DESCRIPTION, dtype: float64\n"
     ]
    }
   ],
   "source": [
    "# let's see the rest of the proportions so i can add up the \"other\" category\n",
    "# \"other\" was asian, native, pacific islander, etc\n",
    "prop = df['SUSPECT_RACE_DESCRIPTION'].value_counts() / 10941\n",
    "print(prop)"
   ]
  },
  {
   "cell_type": "code",
   "execution_count": 15,
   "metadata": {},
   "outputs": [
    {
     "data": {
      "image/png": "[encoded data removed]",
      "text/plain": [
       "<Figure size 504x504 with 1 Axes>"
      ]
     },
     "metadata": {
      "needs_background": "light"
     },
     "output_type": "display_data"
    }
   ],
   "source": [
    "#now we make a stacked bar chart to show the difference in race breakdown among the stop and frisk policy vs. the actual NYC population\n",
    "\n",
    "import matplotlib.pyplot as plt\n",
    "\n",
    "label = ['Stop and Frisk', 'Overall NYC population']\n",
    "y_value1 = [0.570423, 0.243] #Black. the first proportion is from the stop and frisk dataframe, the 2nd provided by 2019 census info\n",
    "y_value2 = [0.309753, 0.291] #Hispanic (combined White and Black Hispanic)\n",
    "y_value3 = [0.098163, 0.321] #White\n",
    "y_value4 = [0.021661, 0.145] #Other (combined Asian, Pacific Islander, and Native)\n",
    "y = np.add(y_value1, y_value2)\n",
    "fig, axs = plt.subplots(figsize=(7,7))       \n",
    "p1 = axs.bar(label, y_value1, color = \"navy\")     \n",
    "\n",
    "p2 = axs.bar(label, y_value2, bottom= y_value1, color=\"cornflowerblue\")\n",
    "p3 = axs.bar(label, y_value3, bottom= np.add(y_value1, y_value2), color = \"peachpuff\")\n",
    "p4 = axs.bar(label, y_value4, bottom= np.add(y, y_value3), color = \"sandybrown\")\n",
    "\n",
    "axs.set_title(\"Race Breakdown of stop and frisk incidents in 2018 vs. overall NYC population\", \n",
    "              fontsize=15, fontweight=\"bold\")   \n",
    "axs.set_xlabel(\"\", fontsize=14)\n",
    "axs.set_ylabel(\"Proportion\", fontsize=14)\n",
    "axs.tick_params(labelsize=14)  \n",
    "axs.legend((p1[0],p2[0], p3[0], p4[0]), ('Black', 'Hispanic', 'White', 'Other'),\n",
    "          bbox_to_anchor=(1.05, 1))\n",
    "plt.text(x = -0.5, y= -0.2, s=\"Sources: NYPD 2018 Stop and Frisk Data, 2019 NYC US Census Bureau [Accessed Dec 2020]\")\n",
    "plt.text(x = -0.5, y =-0.15, s=\"*Hispanic includes both white and Black Hispanics\")\n",
    "plt.text(x = -0.065, y = 0.51, s = \"57%\", color=\"white\", fontsize=13)\n",
    "plt.text(x = -0.065, y = 0.825, s = \"31%\", color=\"white\", fontsize=13)\n",
    "plt.text(x = -0.065, y = 0.93, s = \"10%\", color=\"white\", fontsize=13)\n",
    "plt.text(x = 0.93, y = 0.19, s = \"24%\", color=\"white\", fontsize=13)\n",
    "plt.text(x = 0.93, y = 0.48, s = \"29%\", color=\"white\", fontsize=13)\n",
    "plt.text(x = 0.93, y = 0.8, s = \"32%\", color=\"white\", fontsize=13)\n",
    "plt.show() "
   ]
  },
  {
   "cell_type": "code",
   "execution_count": 16,
   "metadata": {},
   "outputs": [
    {
     "data": {
      "text/html": [
       "<div>\n",
       "<style scoped>\n",
       "    .dataframe tbody tr th:only-of-type {\n",
       "        vertical-align: middle;\n",
       "    }\n",
       "\n",
       "    .dataframe tbody tr th {\n",
       "        vertical-align: top;\n",
       "    }\n",
       "\n",
       "    .dataframe thead th {\n",
       "        text-align: right;\n",
       "    }\n",
       "</style>\n",
       "<table border=\"1\" class=\"dataframe\">\n",
       "  <thead>\n",
       "    <tr style=\"text-align: right;\">\n",
       "      <th></th>\n",
       "      <th>SUSPECT_RACE_DESCRIPTION</th>\n",
       "      <th>STOP_DURATION_MINUTES</th>\n",
       "    </tr>\n",
       "  </thead>\n",
       "  <tbody>\n",
       "    <tr>\n",
       "      <th>0</th>\n",
       "      <td>WHITE</td>\n",
       "      <td>18</td>\n",
       "    </tr>\n",
       "    <tr>\n",
       "      <th>1</th>\n",
       "      <td>BLACK HISPANIC</td>\n",
       "      <td>15</td>\n",
       "    </tr>\n",
       "    <tr>\n",
       "      <th>2</th>\n",
       "      <td>WHITE HISPANIC</td>\n",
       "      <td>10</td>\n",
       "    </tr>\n",
       "    <tr>\n",
       "      <th>3</th>\n",
       "      <td>AMERICAN INDIAN/ALASKAN NATIVE</td>\n",
       "      <td>15</td>\n",
       "    </tr>\n",
       "    <tr>\n",
       "      <th>4</th>\n",
       "      <td>WHITE</td>\n",
       "      <td>15</td>\n",
       "    </tr>\n",
       "    <tr>\n",
       "      <th>...</th>\n",
       "      <td>...</td>\n",
       "      <td>...</td>\n",
       "    </tr>\n",
       "    <tr>\n",
       "      <th>11003</th>\n",
       "      <td>BLACK</td>\n",
       "      <td>8</td>\n",
       "    </tr>\n",
       "    <tr>\n",
       "      <th>11004</th>\n",
       "      <td>BLACK HISPANIC</td>\n",
       "      <td>25</td>\n",
       "    </tr>\n",
       "    <tr>\n",
       "      <th>11005</th>\n",
       "      <td>BLACK HISPANIC</td>\n",
       "      <td>25</td>\n",
       "    </tr>\n",
       "    <tr>\n",
       "      <th>11006</th>\n",
       "      <td>BLACK HISPANIC</td>\n",
       "      <td>25</td>\n",
       "    </tr>\n",
       "    <tr>\n",
       "      <th>11007</th>\n",
       "      <td>BLACK</td>\n",
       "      <td>8</td>\n",
       "    </tr>\n",
       "  </tbody>\n",
       "</table>\n",
       "<p>10941 rows × 2 columns</p>\n",
       "</div>"
      ],
      "text/plain": [
       "             SUSPECT_RACE_DESCRIPTION  STOP_DURATION_MINUTES\n",
       "0                               WHITE                     18\n",
       "1                      BLACK HISPANIC                     15\n",
       "2                      WHITE HISPANIC                     10\n",
       "3      AMERICAN INDIAN/ALASKAN NATIVE                     15\n",
       "4                               WHITE                     15\n",
       "...                               ...                    ...\n",
       "11003                           BLACK                      8\n",
       "11004                  BLACK HISPANIC                     25\n",
       "11005                  BLACK HISPANIC                     25\n",
       "11006                  BLACK HISPANIC                     25\n",
       "11007                           BLACK                      8\n",
       "\n",
       "[10941 rows x 2 columns]"
      ]
     },
     "execution_count": 16,
     "metadata": {},
     "output_type": "execute_result"
    }
   ],
   "source": [
    "#moving onto the next analysis, we want to look at time stopped vs. race \n",
    "timestopped = df[['SUSPECT_RACE_DESCRIPTION', 'STOP_DURATION_MINUTES']]\n",
    "timestopped"
   ]
  },
  {
   "cell_type": "code",
   "execution_count": 17,
   "metadata": {},
   "outputs": [
    {
     "data": {
      "text/html": [
       "<div>\n",
       "<style scoped>\n",
       "    .dataframe tbody tr th:only-of-type {\n",
       "        vertical-align: middle;\n",
       "    }\n",
       "\n",
       "    .dataframe tbody tr th {\n",
       "        vertical-align: top;\n",
       "    }\n",
       "\n",
       "    .dataframe thead th {\n",
       "        text-align: right;\n",
       "    }\n",
       "</style>\n",
       "<table border=\"1\" class=\"dataframe\">\n",
       "  <thead>\n",
       "    <tr style=\"text-align: right;\">\n",
       "      <th></th>\n",
       "      <th>SUSPECT_RACE_DESCRIPTION</th>\n",
       "      <th>STOP_DURATION_MINUTES</th>\n",
       "    </tr>\n",
       "  </thead>\n",
       "  <tbody>\n",
       "    <tr>\n",
       "      <th>0</th>\n",
       "      <td>WHITE</td>\n",
       "      <td>18</td>\n",
       "    </tr>\n",
       "    <tr>\n",
       "      <th>1</th>\n",
       "      <td>BLACK HISPANIC</td>\n",
       "      <td>15</td>\n",
       "    </tr>\n",
       "    <tr>\n",
       "      <th>2</th>\n",
       "      <td>WHITE HISPANIC</td>\n",
       "      <td>10</td>\n",
       "    </tr>\n",
       "    <tr>\n",
       "      <th>3</th>\n",
       "      <td>AMERICAN INDIAN/ALASKAN NATIVE</td>\n",
       "      <td>15</td>\n",
       "    </tr>\n",
       "    <tr>\n",
       "      <th>4</th>\n",
       "      <td>WHITE</td>\n",
       "      <td>15</td>\n",
       "    </tr>\n",
       "    <tr>\n",
       "      <th>...</th>\n",
       "      <td>...</td>\n",
       "      <td>...</td>\n",
       "    </tr>\n",
       "    <tr>\n",
       "      <th>11003</th>\n",
       "      <td>BLACK</td>\n",
       "      <td>8</td>\n",
       "    </tr>\n",
       "    <tr>\n",
       "      <th>11004</th>\n",
       "      <td>BLACK HISPANIC</td>\n",
       "      <td>25</td>\n",
       "    </tr>\n",
       "    <tr>\n",
       "      <th>11005</th>\n",
       "      <td>BLACK HISPANIC</td>\n",
       "      <td>25</td>\n",
       "    </tr>\n",
       "    <tr>\n",
       "      <th>11006</th>\n",
       "      <td>BLACK HISPANIC</td>\n",
       "      <td>25</td>\n",
       "    </tr>\n",
       "    <tr>\n",
       "      <th>11007</th>\n",
       "      <td>BLACK</td>\n",
       "      <td>8</td>\n",
       "    </tr>\n",
       "  </tbody>\n",
       "</table>\n",
       "<p>10941 rows × 2 columns</p>\n",
       "</div>"
      ],
      "text/plain": [
       "             SUSPECT_RACE_DESCRIPTION  STOP_DURATION_MINUTES\n",
       "0                               WHITE                     18\n",
       "1                      BLACK HISPANIC                     15\n",
       "2                      WHITE HISPANIC                     10\n",
       "3      AMERICAN INDIAN/ALASKAN NATIVE                     15\n",
       "4                               WHITE                     15\n",
       "...                               ...                    ...\n",
       "11003                           BLACK                      8\n",
       "11004                  BLACK HISPANIC                     25\n",
       "11005                  BLACK HISPANIC                     25\n",
       "11006                  BLACK HISPANIC                     25\n",
       "11007                           BLACK                      8\n",
       "\n",
       "[10941 rows x 2 columns]"
      ]
     },
     "execution_count": 17,
     "metadata": {},
     "output_type": "execute_result"
    }
   ],
   "source": [
    "#making sure to drop NaNs just in case in these two columns \n",
    "timestopped = timestopped.dropna()\n",
    "timestopped"
   ]
  },
  {
   "cell_type": "code",
   "execution_count": 18,
   "metadata": {},
   "outputs": [],
   "source": [
    "#creating conditions separated by race \n",
    "blacktime = timestopped['SUSPECT_RACE_DESCRIPTION'] == 'BLACK'\n",
    "whispanictime = timestopped['SUSPECT_RACE_DESCRIPTION'] == 'WHITE HISPANIC'\n",
    "bhispanictime = timestopped['SUSPECT_RACE_DESCRIPTION'] == 'BLACK HISPANIC'\n",
    "whitetime = timestopped['SUSPECT_RACE_DESCRIPTION'] == 'WHITE'"
   ]
  },
  {
   "cell_type": "code",
   "execution_count": 19,
   "metadata": {},
   "outputs": [],
   "source": [
    "#creating separate dataframes based on the conditions \n",
    "bt_df = timestopped[blacktime]\n",
    "bht_df = timestopped[bhispanictime] \n",
    "wht_df = timestopped[whispanictime]\n",
    "wt_df = timestopped[whitetime]"
   ]
  },
  {
   "cell_type": "code",
   "execution_count": 20,
   "metadata": {},
   "outputs": [],
   "source": [
    "#defining the function for getting sample mean and the 95% confidence interval\n",
    "def CI_mean(data):\n",
    "    se = np.std(data)/np.sqrt(len(data))\n",
    "    low = np.mean(data)-1.96*se\n",
    "    up = np.mean(data)+1.96*se\n",
    "    print(\"Average is:\", np.mean(data))\n",
    "    print(\"95% CI of mean is: ({}, {})\".format(low,up))"
   ]
  },
  {
   "cell_type": "code",
   "execution_count": 21,
   "metadata": {
    "scrolled": true
   },
   "outputs": [
    {
     "name": "stdout",
     "output_type": "stream",
     "text": [
      "Average is: 11.227367409069059\n",
      "95% CI of mean is: (10.734913839756663, 11.719820978381454)\n"
     ]
    }
   ],
   "source": [
    "#CI for mean stopped time for Black ppl\n",
    "CI_mean(bt_df['STOP_DURATION_MINUTES'])"
   ]
  },
  {
   "cell_type": "code",
   "execution_count": 22,
   "metadata": {},
   "outputs": [
    {
     "name": "stdout",
     "output_type": "stream",
     "text": [
      "Average is: 12.943202979515828\n",
      "95% CI of mean is: (12.020434014406797, 13.865971944624858)\n"
     ]
    }
   ],
   "source": [
    "#CI for mean stopped time for white ppl\n",
    "CI_mean(wt_df['STOP_DURATION_MINUTES'])"
   ]
  },
  {
   "cell_type": "code",
   "execution_count": 23,
   "metadata": {},
   "outputs": [
    {
     "name": "stdout",
     "output_type": "stream",
     "text": [
      "Average is: 11.474437627811861\n",
      "95% CI of mean is: (10.36540628139401, 12.583468974229712)\n"
     ]
    }
   ],
   "source": [
    "#CI for mean stopped time for Black Hispanic ppl\n",
    "CI_mean(bht_df['STOP_DURATION_MINUTES'])"
   ]
  },
  {
   "cell_type": "code",
   "execution_count": 24,
   "metadata": {},
   "outputs": [
    {
     "name": "stdout",
     "output_type": "stream",
     "text": [
      "Average is: 11.681045209456657\n",
      "95% CI of mean is: (10.904992201524566, 12.457098217388749)\n"
     ]
    }
   ],
   "source": [
    "#CI for mean stopped time for white Hispanic ppl\n",
    "CI_mean(wht_df['STOP_DURATION_MINUTES'])"
   ]
  },
  {
   "cell_type": "code",
   "execution_count": 25,
   "metadata": {},
   "outputs": [],
   "source": [
    "#now I want to define the function for the mean difference in time stopped + 95% CI\n",
    "def CI_mean_diff(list1, list2):\n",
    "    s1 = np.var(list1)\n",
    "    s2 = np.var(list2)\n",
    "    n1 = len(list1)\n",
    "    n2 = len(list2)\n",
    "    se2 = s1/n1 + s2/n2\n",
    "    se = np.sqrt(se2)\n",
    "\n",
    "    diff = np.mean(list1) - np.mean(list2)\n",
    "    low = diff - 1.96 * se\n",
    "    up = diff + 1.96 * se\n",
    "    print(\"The average difference is:\", diff)\n",
    "    print(\"The 95% CI is: ({}, {})\".format(low, up))"
   ]
  },
  {
   "cell_type": "code",
   "execution_count": 26,
   "metadata": {},
   "outputs": [
    {
     "name": "stdout",
     "output_type": "stream",
     "text": [
      "The average difference is: -1.7158355704467692\n",
      "The 95% CI is: (-2.761786372777792, -0.6698847681157463)\n"
     ]
    }
   ],
   "source": [
    "CI_mean_diff(bt_df['STOP_DURATION_MINUTES'], wt_df['STOP_DURATION_MINUTES'])\n",
    "#mean diff in time stopped: Black - White"
   ]
  },
  {
   "cell_type": "code",
   "execution_count": 27,
   "metadata": {},
   "outputs": [
    {
     "name": "stdout",
     "output_type": "stream",
     "text": [
      "The average difference is: -1.2621577700591704\n",
      "The 95% CI is: (-2.4678778180341716, -0.056437722084169195)\n"
     ]
    }
   ],
   "source": [
    "CI_mean_diff(wht_df['STOP_DURATION_MINUTES'], wt_df['STOP_DURATION_MINUTES'])\n",
    "#mean diff in time stopped: White Hispanic - White"
   ]
  },
  {
   "cell_type": "code",
   "execution_count": 28,
   "metadata": {},
   "outputs": [
    {
     "name": "stdout",
     "output_type": "stream",
     "text": [
      "The average difference is: -1.4687653517039667\n",
      "The 95% CI is: (-2.9114895423605818, -0.02604116104735188)\n"
     ]
    }
   ],
   "source": [
    "CI_mean_diff(bht_df['STOP_DURATION_MINUTES'], wt_df['STOP_DURATION_MINUTES'])\n",
    "#mean diff in time stopped: Black Hispanic - White "
   ]
  },
  {
   "cell_type": "code",
   "execution_count": 29,
   "metadata": {},
   "outputs": [
    {
     "data": {
      "image/png": "[encoded data removed]",
      "text/plain": [
       "<Figure size 864x576 with 1 Axes>"
      ]
     },
     "metadata": {
      "needs_background": "light"
     },
     "output_type": "display_data"
    }
   ],
   "source": [
    "#let's show the time stopped for each race we are comparing \n",
    "fig, axs = plt.subplots(figsize=(12,8))\n",
    "axs.boxplot([wt_df['STOP_DURATION_MINUTES'], bt_df['STOP_DURATION_MINUTES'], bht_df['STOP_DURATION_MINUTES'], wht_df['STOP_DURATION_MINUTES']])\n",
    "plt.title('Time Stopped by Race', fontsize=20)\n",
    "axs.set_xticklabels(['White', 'Black', 'Black Hispanic', 'White Hispanic'])\n",
    "axs.set_ylabel('Time stopped [mins]', fontsize=18)\n",
    "axs.tick_params(labelsize=15)\n",
    "plt.show()"
   ]
  },
  {
   "cell_type": "code",
   "execution_count": 30,
   "metadata": {},
   "outputs": [
    {
     "data": {
      "image/png": "[encoded data removed]",
      "text/plain": [
       "<Figure size 864x576 with 1 Axes>"
      ]
     },
     "metadata": {
      "needs_background": "light"
     },
     "output_type": "display_data"
    }
   ],
   "source": [
    "#since the outliers are really distorting the boxplot and making it hard to see the ditribution, i'm going to remove them\n",
    "fig, axs = plt.subplots(figsize=(12,8))\n",
    "box = axs.boxplot([wt_df['STOP_DURATION_MINUTES'], bt_df['STOP_DURATION_MINUTES'], bht_df['STOP_DURATION_MINUTES'], wht_df['STOP_DURATION_MINUTES']], showfliers=False, patch_artist=True)\n",
    "plt.title('Time Stopped by Race', fontsize=20, fontweight=\"bold\")\n",
    "axs.set_xticklabels(['White', 'Black', 'Black Hispanic', 'White Hispanic'])\n",
    "axs.set_ylabel('Time stopped [mins]', fontsize=18)\n",
    "axs.tick_params(labelsize=15)\n",
    "plt.text(x = 2.5, y= -5, s=\"Source: NYPD Stop and Frisk Data [accessed Dec 2020]\")\n",
    "colors = ['mistyrose', 'papayawhip', 'azure', 'lavender']\n",
    " \n",
    "for patch, color in zip(box['boxes'], colors):\n",
    "    patch.set_facecolor(color)\n",
    "\n",
    "plt.show()"
   ]
  },
  {
   "cell_type": "code",
   "execution_count": 31,
   "metadata": {},
   "outputs": [
    {
     "data": {
      "text/html": [
       "<div>\n",
       "<style scoped>\n",
       "    .dataframe tbody tr th:only-of-type {\n",
       "        vertical-align: middle;\n",
       "    }\n",
       "\n",
       "    .dataframe tbody tr th {\n",
       "        vertical-align: top;\n",
       "    }\n",
       "\n",
       "    .dataframe thead th {\n",
       "        text-align: right;\n",
       "    }\n",
       "</style>\n",
       "<table border=\"1\" class=\"dataframe\">\n",
       "  <thead>\n",
       "    <tr style=\"text-align: right;\">\n",
       "      <th></th>\n",
       "      <th>FRISKED_FLAG</th>\n",
       "      <th>SUSPECT_RACE_DESCRIPTION</th>\n",
       "    </tr>\n",
       "  </thead>\n",
       "  <tbody>\n",
       "    <tr>\n",
       "      <th>0</th>\n",
       "      <td>1</td>\n",
       "      <td>WHITE</td>\n",
       "    </tr>\n",
       "    <tr>\n",
       "      <th>1</th>\n",
       "      <td>1</td>\n",
       "      <td>BLACK HISPANIC</td>\n",
       "    </tr>\n",
       "    <tr>\n",
       "      <th>2</th>\n",
       "      <td>1</td>\n",
       "      <td>WHITE HISPANIC</td>\n",
       "    </tr>\n",
       "    <tr>\n",
       "      <th>3</th>\n",
       "      <td>1</td>\n",
       "      <td>AMERICAN INDIAN/ALASKAN NATIVE</td>\n",
       "    </tr>\n",
       "    <tr>\n",
       "      <th>4</th>\n",
       "      <td>1</td>\n",
       "      <td>WHITE</td>\n",
       "    </tr>\n",
       "    <tr>\n",
       "      <th>...</th>\n",
       "      <td>...</td>\n",
       "      <td>...</td>\n",
       "    </tr>\n",
       "    <tr>\n",
       "      <th>11003</th>\n",
       "      <td>1</td>\n",
       "      <td>BLACK</td>\n",
       "    </tr>\n",
       "    <tr>\n",
       "      <th>11004</th>\n",
       "      <td>0</td>\n",
       "      <td>BLACK HISPANIC</td>\n",
       "    </tr>\n",
       "    <tr>\n",
       "      <th>11005</th>\n",
       "      <td>0</td>\n",
       "      <td>BLACK HISPANIC</td>\n",
       "    </tr>\n",
       "    <tr>\n",
       "      <th>11006</th>\n",
       "      <td>0</td>\n",
       "      <td>BLACK HISPANIC</td>\n",
       "    </tr>\n",
       "    <tr>\n",
       "      <th>11007</th>\n",
       "      <td>1</td>\n",
       "      <td>BLACK</td>\n",
       "    </tr>\n",
       "  </tbody>\n",
       "</table>\n",
       "<p>10941 rows × 2 columns</p>\n",
       "</div>"
      ],
      "text/plain": [
       "       FRISKED_FLAG        SUSPECT_RACE_DESCRIPTION\n",
       "0                 1                           WHITE\n",
       "1                 1                  BLACK HISPANIC\n",
       "2                 1                  WHITE HISPANIC\n",
       "3                 1  AMERICAN INDIAN/ALASKAN NATIVE\n",
       "4                 1                           WHITE\n",
       "...             ...                             ...\n",
       "11003             1                           BLACK\n",
       "11004             0                  BLACK HISPANIC\n",
       "11005             0                  BLACK HISPANIC\n",
       "11006             0                  BLACK HISPANIC\n",
       "11007             1                           BLACK\n",
       "\n",
       "[10941 rows x 2 columns]"
      ]
     },
     "execution_count": 31,
     "metadata": {},
     "output_type": "execute_result"
    }
   ],
   "source": [
    "#next, let's conduct a chi squared test testing the association between frisking and race \n",
    "# new subset of data with only the frisk and race columns, drop NaNs\n",
    "chi = df[['FRISKED_FLAG', 'SUSPECT_RACE_DESCRIPTION']]\n",
    "chi.dropna()"
   ]
  },
  {
   "cell_type": "code",
   "execution_count": 32,
   "metadata": {},
   "outputs": [
    {
     "data": {
      "text/html": [
       "<div>\n",
       "<style scoped>\n",
       "    .dataframe tbody tr th:only-of-type {\n",
       "        vertical-align: middle;\n",
       "    }\n",
       "\n",
       "    .dataframe tbody tr th {\n",
       "        vertical-align: top;\n",
       "    }\n",
       "\n",
       "    .dataframe thead th {\n",
       "        text-align: right;\n",
       "    }\n",
       "</style>\n",
       "<table border=\"1\" class=\"dataframe\">\n",
       "  <thead>\n",
       "    <tr style=\"text-align: right;\">\n",
       "      <th>FRISKED_FLAG</th>\n",
       "      <th>0</th>\n",
       "      <th>1</th>\n",
       "    </tr>\n",
       "    <tr>\n",
       "      <th>SUSPECT_RACE_DESCRIPTION</th>\n",
       "      <th></th>\n",
       "      <th></th>\n",
       "    </tr>\n",
       "  </thead>\n",
       "  <tbody>\n",
       "    <tr>\n",
       "      <th>AMERICAN INDIAN/ALASKAN NATIVE</th>\n",
       "      <td>6</td>\n",
       "      <td>10</td>\n",
       "    </tr>\n",
       "    <tr>\n",
       "      <th>ASIAN / PACIFIC ISLANDER</th>\n",
       "      <td>106</td>\n",
       "      <td>115</td>\n",
       "    </tr>\n",
       "    <tr>\n",
       "      <th>BLACK</th>\n",
       "      <td>2355</td>\n",
       "      <td>3886</td>\n",
       "    </tr>\n",
       "    <tr>\n",
       "      <th>BLACK HISPANIC</th>\n",
       "      <td>399</td>\n",
       "      <td>579</td>\n",
       "    </tr>\n",
       "    <tr>\n",
       "      <th>WHITE</th>\n",
       "      <td>607</td>\n",
       "      <td>467</td>\n",
       "    </tr>\n",
       "    <tr>\n",
       "      <th>WHITE HISPANIC</th>\n",
       "      <td>986</td>\n",
       "      <td>1425</td>\n",
       "    </tr>\n",
       "  </tbody>\n",
       "</table>\n",
       "</div>"
      ],
      "text/plain": [
       "FRISKED_FLAG                       0     1\n",
       "SUSPECT_RACE_DESCRIPTION                  \n",
       "AMERICAN INDIAN/ALASKAN NATIVE     6    10\n",
       "ASIAN / PACIFIC ISLANDER         106   115\n",
       "BLACK                           2355  3886\n",
       "BLACK HISPANIC                   399   579\n",
       "WHITE                            607   467\n",
       "WHITE HISPANIC                   986  1425"
      ]
     },
     "execution_count": 32,
     "metadata": {},
     "output_type": "execute_result"
    }
   ],
   "source": [
    "#let's make a two way table of this data\n",
    "table = pd.crosstab(index=chi[\"SUSPECT_RACE_DESCRIPTION\"], columns=chi[\"FRISKED_FLAG\"]) \n",
    "table"
   ]
  },
  {
   "cell_type": "code",
   "execution_count": 33,
   "metadata": {},
   "outputs": [
    {
     "name": "stdout",
     "output_type": "stream",
     "text": [
      "10941\n"
     ]
    }
   ],
   "source": [
    "#making sure what the total count of data points is \n",
    "import numpy as np\n",
    "total = 0\n",
    "for race in table.columns:\n",
    "    total += np.sum(table[race])\n",
    "print(total)"
   ]
  },
  {
   "cell_type": "code",
   "execution_count": 34,
   "metadata": {},
   "outputs": [
    {
     "data": {
      "text/html": [
       "<div>\n",
       "<style scoped>\n",
       "    .dataframe tbody tr th:only-of-type {\n",
       "        vertical-align: middle;\n",
       "    }\n",
       "\n",
       "    .dataframe tbody tr th {\n",
       "        vertical-align: top;\n",
       "    }\n",
       "\n",
       "    .dataframe thead th {\n",
       "        text-align: right;\n",
       "    }\n",
       "</style>\n",
       "<table border=\"1\" class=\"dataframe\">\n",
       "  <thead>\n",
       "    <tr style=\"text-align: right;\">\n",
       "      <th></th>\n",
       "      <th>no frisk</th>\n",
       "      <th>frisk</th>\n",
       "    </tr>\n",
       "    <tr>\n",
       "      <th>SUSPECT_RACE_DESCRIPTION</th>\n",
       "      <th></th>\n",
       "      <th></th>\n",
       "    </tr>\n",
       "  </thead>\n",
       "  <tbody>\n",
       "    <tr>\n",
       "      <th>AMERICAN INDIAN/ALASKAN NATIVE</th>\n",
       "      <td>6</td>\n",
       "      <td>10</td>\n",
       "    </tr>\n",
       "    <tr>\n",
       "      <th>ASIAN / PACIFIC ISLANDER</th>\n",
       "      <td>106</td>\n",
       "      <td>115</td>\n",
       "    </tr>\n",
       "    <tr>\n",
       "      <th>BLACK</th>\n",
       "      <td>2355</td>\n",
       "      <td>3886</td>\n",
       "    </tr>\n",
       "    <tr>\n",
       "      <th>BLACK HISPANIC</th>\n",
       "      <td>399</td>\n",
       "      <td>579</td>\n",
       "    </tr>\n",
       "    <tr>\n",
       "      <th>WHITE</th>\n",
       "      <td>607</td>\n",
       "      <td>467</td>\n",
       "    </tr>\n",
       "    <tr>\n",
       "      <th>WHITE HISPANIC</th>\n",
       "      <td>986</td>\n",
       "      <td>1425</td>\n",
       "    </tr>\n",
       "  </tbody>\n",
       "</table>\n",
       "</div>"
      ],
      "text/plain": [
       "                                no frisk  frisk\n",
       "SUSPECT_RACE_DESCRIPTION                       \n",
       "AMERICAN INDIAN/ALASKAN NATIVE         6     10\n",
       "ASIAN / PACIFIC ISLANDER             106    115\n",
       "BLACK                               2355   3886\n",
       "BLACK HISPANIC                       399    579\n",
       "WHITE                                607    467\n",
       "WHITE HISPANIC                       986   1425"
      ]
     },
     "execution_count": 34,
     "metadata": {},
     "output_type": "execute_result"
    }
   ],
   "source": [
    "#now want to make the table a bit more clear and rename the columns\n",
    "table.columns = ['no frisk', 'frisk']\n",
    "table"
   ]
  },
  {
   "cell_type": "code",
   "execution_count": 35,
   "metadata": {},
   "outputs": [
    {
     "data": {
      "text/html": [
       "<div>\n",
       "<style scoped>\n",
       "    .dataframe tbody tr th:only-of-type {\n",
       "        vertical-align: middle;\n",
       "    }\n",
       "\n",
       "    .dataframe tbody tr th {\n",
       "        vertical-align: top;\n",
       "    }\n",
       "\n",
       "    .dataframe thead th {\n",
       "        text-align: right;\n",
       "    }\n",
       "</style>\n",
       "<table border=\"1\" class=\"dataframe\">\n",
       "  <thead>\n",
       "    <tr style=\"text-align: right;\">\n",
       "      <th></th>\n",
       "      <th>no frisk</th>\n",
       "      <th>frisk</th>\n",
       "      <th>Total</th>\n",
       "    </tr>\n",
       "    <tr>\n",
       "      <th>SUSPECT_RACE_DESCRIPTION</th>\n",
       "      <th></th>\n",
       "      <th></th>\n",
       "      <th></th>\n",
       "    </tr>\n",
       "  </thead>\n",
       "  <tbody>\n",
       "    <tr>\n",
       "      <th>AMERICAN INDIAN/ALASKAN NATIVE</th>\n",
       "      <td>6</td>\n",
       "      <td>10</td>\n",
       "      <td>16</td>\n",
       "    </tr>\n",
       "    <tr>\n",
       "      <th>ASIAN / PACIFIC ISLANDER</th>\n",
       "      <td>106</td>\n",
       "      <td>115</td>\n",
       "      <td>221</td>\n",
       "    </tr>\n",
       "    <tr>\n",
       "      <th>BLACK</th>\n",
       "      <td>2355</td>\n",
       "      <td>3886</td>\n",
       "      <td>6241</td>\n",
       "    </tr>\n",
       "    <tr>\n",
       "      <th>BLACK HISPANIC</th>\n",
       "      <td>399</td>\n",
       "      <td>579</td>\n",
       "      <td>978</td>\n",
       "    </tr>\n",
       "    <tr>\n",
       "      <th>WHITE</th>\n",
       "      <td>607</td>\n",
       "      <td>467</td>\n",
       "      <td>1074</td>\n",
       "    </tr>\n",
       "    <tr>\n",
       "      <th>WHITE HISPANIC</th>\n",
       "      <td>986</td>\n",
       "      <td>1425</td>\n",
       "      <td>2411</td>\n",
       "    </tr>\n",
       "  </tbody>\n",
       "</table>\n",
       "</div>"
      ],
      "text/plain": [
       "                                no frisk  frisk  Total\n",
       "SUSPECT_RACE_DESCRIPTION                              \n",
       "AMERICAN INDIAN/ALASKAN NATIVE         6     10     16\n",
       "ASIAN / PACIFIC ISLANDER             106    115    221\n",
       "BLACK                               2355   3886   6241\n",
       "BLACK HISPANIC                       399    579    978\n",
       "WHITE                                607    467   1074\n",
       "WHITE HISPANIC                       986   1425   2411"
      ]
     },
     "execution_count": 35,
     "metadata": {},
     "output_type": "execute_result"
    }
   ],
   "source": [
    "# add a new column for the totals of each race\n",
    "table['Total'] = table['frisk'] + table['no frisk']\n",
    "table"
   ]
  },
  {
   "cell_type": "code",
   "execution_count": 36,
   "metadata": {},
   "outputs": [
    {
     "name": "stdout",
     "output_type": "stream",
     "text": [
      "Sample proportion is: 0.6226566255407787\n",
      "95% CI is: (0.610630613028921, 0.6346826380526365)\n"
     ]
    }
   ],
   "source": [
    "#CI for proportion of Black ppl frisked\n",
    "CI_prop(3886, 6241)"
   ]
  },
  {
   "cell_type": "code",
   "execution_count": 37,
   "metadata": {},
   "outputs": [
    {
     "name": "stdout",
     "output_type": "stream",
     "text": [
      "Sample proportion is: 0.43482309124767227\n",
      "95% CI is: (0.40517461111095204, 0.4644715713843925)\n"
     ]
    }
   ],
   "source": [
    "#CI for proportion of white ppl frisked\n",
    "CI_prop(467, 1074)"
   ]
  },
  {
   "cell_type": "code",
   "execution_count": 38,
   "metadata": {},
   "outputs": [],
   "source": [
    "#functions for finding a proportion difference, plus the confidence interval\n",
    "def CI_prop_diff(s1, s2, n1, n2):\n",
    "    p1 = s1 / n1\n",
    "    p2 = s2 / n2\n",
    "    se2p1 = p1 * (1 - p1) / n1\n",
    "    se2p2 = p2 * (1 - p2) / n2\n",
    "    se2 = se2p1 + se2p2\n",
    "    se = np.sqrt(se2)\n",
    "    low = (p1 - p2) - 1.96 * se\n",
    "    up = (p1 - p2) + 1.96 * se\n",
    "    print(\"Proportion difference is:\", p1 - p2)\n",
    "    print(\"95% CI is: ({}, {})\".format(low, up))"
   ]
  },
  {
   "cell_type": "code",
   "execution_count": 39,
   "metadata": {},
   "outputs": [
    {
     "name": "stdout",
     "output_type": "stream",
     "text": [
      "Proportion difference is: 0.18783353429310645\n",
      "95% CI is: (0.1558388886261694, 0.2198281799600435)\n"
     ]
    }
   ],
   "source": [
    "#i am ONLY calculating the diff in proportion of stopped Black individuals who were frisked - prop of stopped whites who were frisked \n",
    "CI_prop_diff(3886, 467, 6241, 1074)"
   ]
  },
  {
   "cell_type": "code",
   "execution_count": 40,
   "metadata": {},
   "outputs": [
    {
     "data": {
      "text/html": [
       "<div>\n",
       "<style scoped>\n",
       "    .dataframe tbody tr th:only-of-type {\n",
       "        vertical-align: middle;\n",
       "    }\n",
       "\n",
       "    .dataframe tbody tr th {\n",
       "        vertical-align: top;\n",
       "    }\n",
       "\n",
       "    .dataframe thead th {\n",
       "        text-align: right;\n",
       "    }\n",
       "</style>\n",
       "<table border=\"1\" class=\"dataframe\">\n",
       "  <thead>\n",
       "    <tr style=\"text-align: right;\">\n",
       "      <th></th>\n",
       "      <th>no frisk</th>\n",
       "      <th>frisk</th>\n",
       "      <th>Total</th>\n",
       "      <th>nofrisk_per</th>\n",
       "      <th>frisk_per</th>\n",
       "    </tr>\n",
       "    <tr>\n",
       "      <th>SUSPECT_RACE_DESCRIPTION</th>\n",
       "      <th></th>\n",
       "      <th></th>\n",
       "      <th></th>\n",
       "      <th></th>\n",
       "      <th></th>\n",
       "    </tr>\n",
       "  </thead>\n",
       "  <tbody>\n",
       "    <tr>\n",
       "      <th>AMERICAN INDIAN/ALASKAN NATIVE</th>\n",
       "      <td>6</td>\n",
       "      <td>10</td>\n",
       "      <td>16</td>\n",
       "      <td>0.375000</td>\n",
       "      <td>0.625000</td>\n",
       "    </tr>\n",
       "    <tr>\n",
       "      <th>ASIAN / PACIFIC ISLANDER</th>\n",
       "      <td>106</td>\n",
       "      <td>115</td>\n",
       "      <td>221</td>\n",
       "      <td>0.479638</td>\n",
       "      <td>0.520362</td>\n",
       "    </tr>\n",
       "    <tr>\n",
       "      <th>BLACK</th>\n",
       "      <td>2355</td>\n",
       "      <td>3886</td>\n",
       "      <td>6241</td>\n",
       "      <td>0.377343</td>\n",
       "      <td>0.622657</td>\n",
       "    </tr>\n",
       "    <tr>\n",
       "      <th>BLACK HISPANIC</th>\n",
       "      <td>399</td>\n",
       "      <td>579</td>\n",
       "      <td>978</td>\n",
       "      <td>0.407975</td>\n",
       "      <td>0.592025</td>\n",
       "    </tr>\n",
       "    <tr>\n",
       "      <th>WHITE</th>\n",
       "      <td>607</td>\n",
       "      <td>467</td>\n",
       "      <td>1074</td>\n",
       "      <td>0.565177</td>\n",
       "      <td>0.434823</td>\n",
       "    </tr>\n",
       "    <tr>\n",
       "      <th>WHITE HISPANIC</th>\n",
       "      <td>986</td>\n",
       "      <td>1425</td>\n",
       "      <td>2411</td>\n",
       "      <td>0.408959</td>\n",
       "      <td>0.591041</td>\n",
       "    </tr>\n",
       "  </tbody>\n",
       "</table>\n",
       "</div>"
      ],
      "text/plain": [
       "                                no frisk  frisk  Total  nofrisk_per  frisk_per\n",
       "SUSPECT_RACE_DESCRIPTION                                                      \n",
       "AMERICAN INDIAN/ALASKAN NATIVE         6     10     16     0.375000   0.625000\n",
       "ASIAN / PACIFIC ISLANDER             106    115    221     0.479638   0.520362\n",
       "BLACK                               2355   3886   6241     0.377343   0.622657\n",
       "BLACK HISPANIC                       399    579    978     0.407975   0.592025\n",
       "WHITE                                607    467   1074     0.565177   0.434823\n",
       "WHITE HISPANIC                       986   1425   2411     0.408959   0.591041"
      ]
     },
     "execution_count": 40,
     "metadata": {},
     "output_type": "execute_result"
    }
   ],
   "source": [
    "#now let's make a grouped bar chart, first by adding columns for the proportions of frisked and not frisked per race\n",
    "table['nofrisk_per'] = table['no frisk'] / table['Total']\n",
    "table['frisk_per'] = table['frisk'] / table['Total']\n",
    "table"
   ]
  },
  {
   "cell_type": "code",
   "execution_count": 41,
   "metadata": {},
   "outputs": [
    {
     "data": {
      "text/html": [
       "<div>\n",
       "<style scoped>\n",
       "    .dataframe tbody tr th:only-of-type {\n",
       "        vertical-align: middle;\n",
       "    }\n",
       "\n",
       "    .dataframe tbody tr th {\n",
       "        vertical-align: top;\n",
       "    }\n",
       "\n",
       "    .dataframe thead th {\n",
       "        text-align: right;\n",
       "    }\n",
       "</style>\n",
       "<table border=\"1\" class=\"dataframe\">\n",
       "  <thead>\n",
       "    <tr style=\"text-align: right;\">\n",
       "      <th></th>\n",
       "      <th>no frisk</th>\n",
       "      <th>frisk</th>\n",
       "      <th>Total</th>\n",
       "      <th>nofrisk_per</th>\n",
       "      <th>frisk_per</th>\n",
       "    </tr>\n",
       "    <tr>\n",
       "      <th>SUSPECT_RACE_DESCRIPTION</th>\n",
       "      <th></th>\n",
       "      <th></th>\n",
       "      <th></th>\n",
       "      <th></th>\n",
       "      <th></th>\n",
       "    </tr>\n",
       "  </thead>\n",
       "  <tbody>\n",
       "    <tr>\n",
       "      <th>BLACK</th>\n",
       "      <td>2355</td>\n",
       "      <td>3886</td>\n",
       "      <td>6241</td>\n",
       "      <td>0.377343</td>\n",
       "      <td>0.622657</td>\n",
       "    </tr>\n",
       "    <tr>\n",
       "      <th>BLACK HISPANIC</th>\n",
       "      <td>399</td>\n",
       "      <td>579</td>\n",
       "      <td>978</td>\n",
       "      <td>0.407975</td>\n",
       "      <td>0.592025</td>\n",
       "    </tr>\n",
       "    <tr>\n",
       "      <th>WHITE</th>\n",
       "      <td>607</td>\n",
       "      <td>467</td>\n",
       "      <td>1074</td>\n",
       "      <td>0.565177</td>\n",
       "      <td>0.434823</td>\n",
       "    </tr>\n",
       "    <tr>\n",
       "      <th>WHITE HISPANIC</th>\n",
       "      <td>986</td>\n",
       "      <td>1425</td>\n",
       "      <td>2411</td>\n",
       "      <td>0.408959</td>\n",
       "      <td>0.591041</td>\n",
       "    </tr>\n",
       "  </tbody>\n",
       "</table>\n",
       "</div>"
      ],
      "text/plain": [
       "                          no frisk  frisk  Total  nofrisk_per  frisk_per\n",
       "SUSPECT_RACE_DESCRIPTION                                                \n",
       "BLACK                         2355   3886   6241     0.377343   0.622657\n",
       "BLACK HISPANIC                 399    579    978     0.407975   0.592025\n",
       "WHITE                          607    467   1074     0.565177   0.434823\n",
       "WHITE HISPANIC                 986   1425   2411     0.408959   0.591041"
      ]
     },
     "execution_count": 41,
     "metadata": {},
     "output_type": "execute_result"
    }
   ],
   "source": [
    "#I don't care about the Asian and Native data, so I will remove it for the data visual.\n",
    "table.drop([\"ASIAN / PACIFIC ISLANDER\", \"AMERICAN INDIAN/ALASKAN NATIVE\"], axis=0, inplace=True)\n",
    "table"
   ]
  },
  {
   "cell_type": "code",
   "execution_count": 42,
   "metadata": {},
   "outputs": [
    {
     "data": {
      "image/png": "[encoded data removed]",
      "text/plain": [
       "<Figure size 720x432 with 1 Axes>"
      ]
     },
     "metadata": {
      "needs_background": "light"
     },
     "output_type": "display_data"
    }
   ],
   "source": [
    "#now let's make a grouped bar chart\n",
    "import matplotlib\n",
    "import matplotlib.pyplot as plt\n",
    "import numpy as np\n",
    "\n",
    "\n",
    "labels = ['Black', 'Black Hispanic', 'White', 'White Hispanic']\n",
    "y_value1 = table['frisk_per'] # List of y-values from 1st category\n",
    "y_value2 = table['nofrisk_per'] # List of y-values from 2nd category\n",
    "\n",
    "x = np.arange(len(labels))\n",
    "width = 0.35  # the width of the bars\n",
    "\n",
    "fig, ax = plt.subplots(figsize=(10,6))\n",
    "ax.bar(x - width/2, y_value1, width, label='Frisked', color='slateblue')\n",
    "ax.bar(x + width/2, y_value2, width, label='Not Frisked', color='peachpuff')\n",
    "\n",
    "\n",
    "ax.set_ylabel('Proportion', fontsize=14)\n",
    "ax.set_xlabel('Race', fontsize=14)\n",
    "ax.set_title('Proportion frisked of those stopped by race',\n",
    "             fontsize=20, fontweight='bold')\n",
    "ax.set_xticks(x)\n",
    "ax.set_xticklabels(labels, fontsize=12)\n",
    "ax.legend()\n",
    "plt.text(x = 1.3, y= -0.12, s=\"Source: NYPD 2018 Stop and Frisk Data [accessed Dec 2020]\")\n",
    "plt.text(x=-0.25, y=0.625, s=\"62%\")\n",
    "plt.text(x=0.1, y=0.378, s=\"38%\")\n",
    "plt.text(x=0.76, y=0.593, s=\"59%\")\n",
    "plt.text(x= 1.1, y=0.41, s=\"41%\")\n",
    "plt.text(x=1.75, y=0.435, s=\"43%\")\n",
    "plt.text(x=2.1, y=0.565, s=\"57%\")\n",
    "plt.text(x=2.75, y=0.593, s=\"59%\")\n",
    "plt.text(x=3.1, y=0.41, s=\"41%\")\n",
    "\n",
    "plt.show()"
   ]
  },
  {
   "cell_type": "code",
   "execution_count": 43,
   "metadata": {},
   "outputs": [
    {
     "name": "stderr",
     "output_type": "stream",
     "text": [
      "/Users/tarashabazaz/opt/anaconda3/lib/python3.8/site-packages/pandas/core/frame.py:4163: SettingWithCopyWarning: \n",
      "A value is trying to be set on a copy of a slice from a DataFrame\n",
      "\n",
      "See the caveats in the documentation: https://pandas.pydata.org/pandas-docs/stable/user_guide/indexing.html#returning-a-view-versus-a-copy\n",
      "  return super().drop(\n"
     ]
    }
   ],
   "source": [
    "#let's move on to the regression analysis. i'll pull two columns from the original dataset \n",
    "# to see if there is any association between stop duration time and age of suspect.\n",
    "# I removed NaNs and 0s from the age column\n",
    "reg = df[['SUSPECT_REPORTED_AGE', 'STOP_DURATION_MINUTES']]\n",
    "reg.dropna()\n",
    "reg.drop(reg[reg['SUSPECT_REPORTED_AGE'] == 0].index, inplace = True)\n"
   ]
  },
  {
   "cell_type": "code",
   "execution_count": 44,
   "metadata": {},
   "outputs": [
    {
     "data": {
      "image/png": "[encoded data removed]",
      "text/plain": [
       "<Figure size 864x576 with 1 Axes>"
      ]
     },
     "metadata": {
      "needs_background": "light"
     },
     "output_type": "display_data"
    }
   ],
   "source": [
    "#let's make a scatterplot to visualize the association between the two variables\n",
    "fig, axs = plt.subplots(figsize=(12,8))\n",
    "axs.scatter(reg['SUSPECT_REPORTED_AGE'], reg['STOP_DURATION_MINUTES'], c='slateblue',\n",
    "            edgecolors='none', s=30)\n",
    "plt.title(\"Suspect age vs time stopped\", fontsize=20)\n",
    "axs.set_xlabel(\"Age[years]\", fontsize=18)\n",
    "axs.set_ylabel(\"Stop time[min]\", fontsize=18)\n",
    "axs.tick_params(labelsize=15)\n",
    "plt.show() "
   ]
  },
  {
   "cell_type": "code",
   "execution_count": 45,
   "metadata": {},
   "outputs": [
    {
     "data": {
      "text/html": [
       "<table class=\"simpletable\">\n",
       "<caption>OLS Regression Results</caption>\n",
       "<tr>\n",
       "  <th>Dep. Variable:</th>    <td>STOP_DURATION_MINUTES</td> <th>  R-squared:         </th> <td>   0.000</td> \n",
       "</tr>\n",
       "<tr>\n",
       "  <th>Model:</th>                     <td>OLS</td>          <th>  Adj. R-squared:    </th> <td>   0.000</td> \n",
       "</tr>\n",
       "<tr>\n",
       "  <th>Method:</th>               <td>Least Squares</td>     <th>  F-statistic:       </th> <td>   1.688</td> \n",
       "</tr>\n",
       "<tr>\n",
       "  <th>Date:</th>               <td>Tue, 22 Dec 2020</td>    <th>  Prob (F-statistic):</th>  <td> 0.194</td>  \n",
       "</tr>\n",
       "<tr>\n",
       "  <th>Time:</th>                   <td>17:08:09</td>        <th>  Log-Likelihood:    </th> <td> -44626.</td> \n",
       "</tr>\n",
       "<tr>\n",
       "  <th>No. Observations:</th>        <td> 10174</td>         <th>  AIC:               </th> <td>8.926e+04</td>\n",
       "</tr>\n",
       "<tr>\n",
       "  <th>Df Residuals:</th>            <td> 10172</td>         <th>  BIC:               </th> <td>8.927e+04</td>\n",
       "</tr>\n",
       "<tr>\n",
       "  <th>Df Model:</th>                <td>     1</td>         <th>                     </th>     <td> </td>    \n",
       "</tr>\n",
       "<tr>\n",
       "  <th>Covariance Type:</th>        <td>nonrobust</td>       <th>                     </th>     <td> </td>    \n",
       "</tr>\n",
       "</table>\n",
       "<table class=\"simpletable\">\n",
       "<tr>\n",
       "    <td></td>       <th>coef</th>     <th>std err</th>      <th>t</th>      <th>P>|t|</th>  <th>[0.025</th>    <th>0.975]</th>  \n",
       "</tr>\n",
       "<tr>\n",
       "  <th>const</th> <td>   12.3418</td> <td>    0.499</td> <td>   24.715</td> <td> 0.000</td> <td>   11.363</td> <td>   13.321</td>\n",
       "</tr>\n",
       "<tr>\n",
       "  <th>x1</th>    <td>   -0.0204</td> <td>    0.016</td> <td>   -1.299</td> <td> 0.194</td> <td>   -0.051</td> <td>    0.010</td>\n",
       "</tr>\n",
       "</table>\n",
       "<table class=\"simpletable\">\n",
       "<tr>\n",
       "  <th>Omnibus:</th>       <td>22070.121</td> <th>  Durbin-Watson:     </th>   <td>   1.726</td>   \n",
       "</tr>\n",
       "<tr>\n",
       "  <th>Prob(Omnibus):</th>  <td> 0.000</td>   <th>  Jarque-Bera (JB):  </th> <td>238079515.228</td>\n",
       "</tr>\n",
       "<tr>\n",
       "  <th>Skew:</th>           <td>19.138</td>   <th>  Prob(JB):          </th>   <td>    0.00</td>   \n",
       "</tr>\n",
       "<tr>\n",
       "  <th>Kurtosis:</th>       <td>751.434</td>  <th>  Cond. No.          </th>   <td>    82.6</td>   \n",
       "</tr>\n",
       "</table><br/><br/>Notes:<br/>[1] Standard Errors assume that the covariance matrix of the errors is correctly specified."
      ],
      "text/plain": [
       "<class 'statsmodels.iolib.summary.Summary'>\n",
       "\"\"\"\n",
       "                              OLS Regression Results                             \n",
       "=================================================================================\n",
       "Dep. Variable:     STOP_DURATION_MINUTES   R-squared:                       0.000\n",
       "Model:                               OLS   Adj. R-squared:                  0.000\n",
       "Method:                    Least Squares   F-statistic:                     1.688\n",
       "Date:                   Tue, 22 Dec 2020   Prob (F-statistic):              0.194\n",
       "Time:                           17:08:09   Log-Likelihood:                -44626.\n",
       "No. Observations:                  10174   AIC:                         8.926e+04\n",
       "Df Residuals:                      10172   BIC:                         8.927e+04\n",
       "Df Model:                              1                                         \n",
       "Covariance Type:               nonrobust                                         \n",
       "==============================================================================\n",
       "                 coef    std err          t      P>|t|      [0.025      0.975]\n",
       "------------------------------------------------------------------------------\n",
       "const         12.3418      0.499     24.715      0.000      11.363      13.321\n",
       "x1            -0.0204      0.016     -1.299      0.194      -0.051       0.010\n",
       "==============================================================================\n",
       "Omnibus:                    22070.121   Durbin-Watson:                   1.726\n",
       "Prob(Omnibus):                  0.000   Jarque-Bera (JB):        238079515.228\n",
       "Skew:                          19.138   Prob(JB):                         0.00\n",
       "Kurtosis:                     751.434   Cond. No.                         82.6\n",
       "==============================================================================\n",
       "\n",
       "Notes:\n",
       "[1] Standard Errors assume that the covariance matrix of the errors is correctly specified.\n",
       "\"\"\""
      ]
     },
     "metadata": {},
     "output_type": "display_data"
    }
   ],
   "source": [
    "#now see the full regression model (linear regression)\n",
    "from statsmodels.regression.linear_model import OLS\n",
    "import statsmodels.api as sm\n",
    "\n",
    "x_vals = reg['SUSPECT_REPORTED_AGE'].values\n",
    "y_vals = reg['STOP_DURATION_MINUTES']\n",
    "\n",
    "reg_model = OLS(y_vals, sm.add_constant(x_vals)).fit()\n",
    "display(reg_model.summary())"
   ]
  },
  {
   "cell_type": "code",
   "execution_count": 46,
   "metadata": {},
   "outputs": [],
   "source": [
    "#time = 12.3418 -0.0204(age) \n",
    "#getting the regression coefficients\n",
    "b0 = reg_model.params[0]\n",
    "b1 = reg_model.params[1]\n",
    "x_plot = np.linspace(np.min(reg['SUSPECT_REPORTED_AGE']),\n",
    "                     np.max(reg['SUSPECT_REPORTED_AGE']), 100)"
   ]
  },
  {
   "cell_type": "code",
   "execution_count": 47,
   "metadata": {},
   "outputs": [
    {
     "data": {
      "image/png": "[encoded data removed]",
      "text/plain": [
       "<Figure size 864x576 with 1 Axes>"
      ]
     },
     "metadata": {
      "needs_background": "light"
     },
     "output_type": "display_data"
    }
   ],
   "source": [
    "#adding regression line and label to the scatterplot \n",
    "fig, axs = plt.subplots(figsize=(12,8))\n",
    "axs.scatter(reg['SUSPECT_REPORTED_AGE'], reg['STOP_DURATION_MINUTES'], c='thistle',\n",
    "            edgecolors='slateblue', s=30)\n",
    "plt.title(\"Suspect age vs time stopped\", fontsize=20, fontweight=\"bold\")\n",
    "axs.set_xlabel(\"Age [years]\", fontsize=18)\n",
    "axs.set_ylabel(\"Stop time [min]\", fontsize=18)\n",
    "axs.tick_params(labelsize=15)\n",
    "axs.plot(x_plot, x_plot*b1 + b0, color='mediumvioletred')\n",
    "plt.text(50,250, \"Stop time = Age * -0.0204 + 12.3418\",\n",
    "        fontsize=15, color='mediumvioletred')\n",
    "plt.text(x = 45, y= -220, s=\"Source: NYPD 2018 Stop and Frisk Data [accessed Dec 2020]\")\n",
    "plt.show() "
   ]
  },
  {
   "cell_type": "code",
   "execution_count": 48,
   "metadata": {},
   "outputs": [
    {
     "data": {
      "text/html": [
       "<div>\n",
       "<style scoped>\n",
       "    .dataframe tbody tr th:only-of-type {\n",
       "        vertical-align: middle;\n",
       "    }\n",
       "\n",
       "    .dataframe tbody tr th {\n",
       "        vertical-align: top;\n",
       "    }\n",
       "\n",
       "    .dataframe thead th {\n",
       "        text-align: right;\n",
       "    }\n",
       "</style>\n",
       "<table border=\"1\" class=\"dataframe\">\n",
       "  <thead>\n",
       "    <tr style=\"text-align: right;\">\n",
       "      <th></th>\n",
       "      <th>SUSPECT_RACE_DESCRIPTION</th>\n",
       "      <th>SUSPECT_ARRESTED_FLAG</th>\n",
       "    </tr>\n",
       "  </thead>\n",
       "  <tbody>\n",
       "    <tr>\n",
       "      <th>0</th>\n",
       "      <td>WHITE</td>\n",
       "      <td>0</td>\n",
       "    </tr>\n",
       "    <tr>\n",
       "      <th>1</th>\n",
       "      <td>BLACK HISPANIC</td>\n",
       "      <td>0</td>\n",
       "    </tr>\n",
       "    <tr>\n",
       "      <th>2</th>\n",
       "      <td>WHITE HISPANIC</td>\n",
       "      <td>0</td>\n",
       "    </tr>\n",
       "    <tr>\n",
       "      <th>3</th>\n",
       "      <td>AMERICAN INDIAN/ALASKAN NATIVE</td>\n",
       "      <td>1</td>\n",
       "    </tr>\n",
       "    <tr>\n",
       "      <th>4</th>\n",
       "      <td>WHITE</td>\n",
       "      <td>1</td>\n",
       "    </tr>\n",
       "    <tr>\n",
       "      <th>...</th>\n",
       "      <td>...</td>\n",
       "      <td>...</td>\n",
       "    </tr>\n",
       "    <tr>\n",
       "      <th>11003</th>\n",
       "      <td>BLACK</td>\n",
       "      <td>1</td>\n",
       "    </tr>\n",
       "    <tr>\n",
       "      <th>11004</th>\n",
       "      <td>BLACK HISPANIC</td>\n",
       "      <td>0</td>\n",
       "    </tr>\n",
       "    <tr>\n",
       "      <th>11005</th>\n",
       "      <td>BLACK HISPANIC</td>\n",
       "      <td>0</td>\n",
       "    </tr>\n",
       "    <tr>\n",
       "      <th>11006</th>\n",
       "      <td>BLACK HISPANIC</td>\n",
       "      <td>0</td>\n",
       "    </tr>\n",
       "    <tr>\n",
       "      <th>11007</th>\n",
       "      <td>BLACK</td>\n",
       "      <td>0</td>\n",
       "    </tr>\n",
       "  </tbody>\n",
       "</table>\n",
       "<p>10941 rows × 2 columns</p>\n",
       "</div>"
      ],
      "text/plain": [
       "             SUSPECT_RACE_DESCRIPTION  SUSPECT_ARRESTED_FLAG\n",
       "0                               WHITE                      0\n",
       "1                      BLACK HISPANIC                      0\n",
       "2                      WHITE HISPANIC                      0\n",
       "3      AMERICAN INDIAN/ALASKAN NATIVE                      1\n",
       "4                               WHITE                      1\n",
       "...                               ...                    ...\n",
       "11003                           BLACK                      1\n",
       "11004                  BLACK HISPANIC                      0\n",
       "11005                  BLACK HISPANIC                      0\n",
       "11006                  BLACK HISPANIC                      0\n",
       "11007                           BLACK                      0\n",
       "\n",
       "[10941 rows x 2 columns]"
      ]
     },
     "execution_count": 48,
     "metadata": {},
     "output_type": "execute_result"
    }
   ],
   "source": [
    "#another chi square test assessing the association between race and arrest. we retrieve the 2 columns for race and arrest\n",
    "# and drop nans again. (already dropped race=0 in original df)\n",
    "chi2 = df[['SUSPECT_RACE_DESCRIPTION', 'SUSPECT_ARRESTED_FLAG']]\n",
    "chi2.dropna()"
   ]
  },
  {
   "cell_type": "code",
   "execution_count": 49,
   "metadata": {},
   "outputs": [
    {
     "data": {
      "text/html": [
       "<div>\n",
       "<style scoped>\n",
       "    .dataframe tbody tr th:only-of-type {\n",
       "        vertical-align: middle;\n",
       "    }\n",
       "\n",
       "    .dataframe tbody tr th {\n",
       "        vertical-align: top;\n",
       "    }\n",
       "\n",
       "    .dataframe thead th {\n",
       "        text-align: right;\n",
       "    }\n",
       "</style>\n",
       "<table border=\"1\" class=\"dataframe\">\n",
       "  <thead>\n",
       "    <tr style=\"text-align: right;\">\n",
       "      <th>SUSPECT_RACE_DESCRIPTION</th>\n",
       "      <th>AMERICAN INDIAN/ALASKAN NATIVE</th>\n",
       "      <th>ASIAN / PACIFIC ISLANDER</th>\n",
       "      <th>BLACK</th>\n",
       "      <th>BLACK HISPANIC</th>\n",
       "      <th>WHITE</th>\n",
       "      <th>WHITE HISPANIC</th>\n",
       "    </tr>\n",
       "    <tr>\n",
       "      <th>SUSPECT_ARRESTED_FLAG</th>\n",
       "      <th></th>\n",
       "      <th></th>\n",
       "      <th></th>\n",
       "      <th></th>\n",
       "      <th></th>\n",
       "      <th></th>\n",
       "    </tr>\n",
       "  </thead>\n",
       "  <tbody>\n",
       "    <tr>\n",
       "      <th>0</th>\n",
       "      <td>12</td>\n",
       "      <td>170</td>\n",
       "      <td>4532</td>\n",
       "      <td>726</td>\n",
       "      <td>771</td>\n",
       "      <td>1628</td>\n",
       "    </tr>\n",
       "    <tr>\n",
       "      <th>1</th>\n",
       "      <td>4</td>\n",
       "      <td>51</td>\n",
       "      <td>1709</td>\n",
       "      <td>252</td>\n",
       "      <td>303</td>\n",
       "      <td>783</td>\n",
       "    </tr>\n",
       "  </tbody>\n",
       "</table>\n",
       "</div>"
      ],
      "text/plain": [
       "SUSPECT_RACE_DESCRIPTION  AMERICAN INDIAN/ALASKAN NATIVE  \\\n",
       "SUSPECT_ARRESTED_FLAG                                      \n",
       "0                                                     12   \n",
       "1                                                      4   \n",
       "\n",
       "SUSPECT_RACE_DESCRIPTION  ASIAN / PACIFIC ISLANDER  BLACK  BLACK HISPANIC  \\\n",
       "SUSPECT_ARRESTED_FLAG                                                       \n",
       "0                                              170   4532             726   \n",
       "1                                               51   1709             252   \n",
       "\n",
       "SUSPECT_RACE_DESCRIPTION  WHITE  WHITE HISPANIC  \n",
       "SUSPECT_ARRESTED_FLAG                            \n",
       "0                           771            1628  \n",
       "1                           303             783  "
      ]
     },
     "execution_count": 49,
     "metadata": {},
     "output_type": "execute_result"
    }
   ],
   "source": [
    "#making a two way table \n",
    "table2 = pd.crosstab(index=chi2[\"SUSPECT_ARRESTED_FLAG\"], columns=chi2[\"SUSPECT_RACE_DESCRIPTION\"]) \n",
    "table2"
   ]
  },
  {
   "cell_type": "code",
   "execution_count": 50,
   "metadata": {},
   "outputs": [
    {
     "data": {
      "text/html": [
       "<div>\n",
       "<style scoped>\n",
       "    .dataframe tbody tr th:only-of-type {\n",
       "        vertical-align: middle;\n",
       "    }\n",
       "\n",
       "    .dataframe tbody tr th {\n",
       "        vertical-align: top;\n",
       "    }\n",
       "\n",
       "    .dataframe thead th {\n",
       "        text-align: right;\n",
       "    }\n",
       "</style>\n",
       "<table border=\"1\" class=\"dataframe\">\n",
       "  <thead>\n",
       "    <tr style=\"text-align: right;\">\n",
       "      <th>SUSPECT_RACE_DESCRIPTION</th>\n",
       "      <th>AMERICAN INDIAN/ALASKAN NATIVE</th>\n",
       "      <th>ASIAN / PACIFIC ISLANDER</th>\n",
       "      <th>BLACK</th>\n",
       "      <th>BLACK HISPANIC</th>\n",
       "      <th>WHITE</th>\n",
       "      <th>WHITE HISPANIC</th>\n",
       "    </tr>\n",
       "  </thead>\n",
       "  <tbody>\n",
       "    <tr>\n",
       "      <th>no arrest</th>\n",
       "      <td>12</td>\n",
       "      <td>170</td>\n",
       "      <td>4532</td>\n",
       "      <td>726</td>\n",
       "      <td>771</td>\n",
       "      <td>1628</td>\n",
       "    </tr>\n",
       "    <tr>\n",
       "      <th>arrest</th>\n",
       "      <td>4</td>\n",
       "      <td>51</td>\n",
       "      <td>1709</td>\n",
       "      <td>252</td>\n",
       "      <td>303</td>\n",
       "      <td>783</td>\n",
       "    </tr>\n",
       "  </tbody>\n",
       "</table>\n",
       "</div>"
      ],
      "text/plain": [
       "SUSPECT_RACE_DESCRIPTION  AMERICAN INDIAN/ALASKAN NATIVE  \\\n",
       "no arrest                                             12   \n",
       "arrest                                                 4   \n",
       "\n",
       "SUSPECT_RACE_DESCRIPTION  ASIAN / PACIFIC ISLANDER  BLACK  BLACK HISPANIC  \\\n",
       "no arrest                                      170   4532             726   \n",
       "arrest                                          51   1709             252   \n",
       "\n",
       "SUSPECT_RACE_DESCRIPTION  WHITE  WHITE HISPANIC  \n",
       "no arrest                   771            1628  \n",
       "arrest                      303             783  "
      ]
     },
     "execution_count": 50,
     "metadata": {},
     "output_type": "execute_result"
    }
   ],
   "source": [
    "#renaming the rows to be more clear\n",
    "table2.index = ['no arrest', 'arrest']\n",
    "table2"
   ]
  },
  {
   "cell_type": "code",
   "execution_count": 51,
   "metadata": {},
   "outputs": [
    {
     "data": {
      "text/html": [
       "<div>\n",
       "<style scoped>\n",
       "    .dataframe tbody tr th:only-of-type {\n",
       "        vertical-align: middle;\n",
       "    }\n",
       "\n",
       "    .dataframe tbody tr th {\n",
       "        vertical-align: top;\n",
       "    }\n",
       "\n",
       "    .dataframe thead th {\n",
       "        text-align: right;\n",
       "    }\n",
       "</style>\n",
       "<table border=\"1\" class=\"dataframe\">\n",
       "  <thead>\n",
       "    <tr style=\"text-align: right;\">\n",
       "      <th>SUSPECT_RACE_DESCRIPTION</th>\n",
       "      <th>AMERICAN INDIAN/ALASKAN NATIVE</th>\n",
       "      <th>ASIAN / PACIFIC ISLANDER</th>\n",
       "      <th>BLACK</th>\n",
       "      <th>BLACK HISPANIC</th>\n",
       "      <th>WHITE</th>\n",
       "      <th>WHITE HISPANIC</th>\n",
       "    </tr>\n",
       "  </thead>\n",
       "  <tbody>\n",
       "    <tr>\n",
       "      <th>no arrest</th>\n",
       "      <td>12</td>\n",
       "      <td>170</td>\n",
       "      <td>4532</td>\n",
       "      <td>726</td>\n",
       "      <td>771</td>\n",
       "      <td>1628</td>\n",
       "    </tr>\n",
       "    <tr>\n",
       "      <th>arrest</th>\n",
       "      <td>4</td>\n",
       "      <td>51</td>\n",
       "      <td>1709</td>\n",
       "      <td>252</td>\n",
       "      <td>303</td>\n",
       "      <td>783</td>\n",
       "    </tr>\n",
       "    <tr>\n",
       "      <th>Total</th>\n",
       "      <td>16</td>\n",
       "      <td>221</td>\n",
       "      <td>6241</td>\n",
       "      <td>978</td>\n",
       "      <td>1074</td>\n",
       "      <td>2411</td>\n",
       "    </tr>\n",
       "  </tbody>\n",
       "</table>\n",
       "</div>"
      ],
      "text/plain": [
       "SUSPECT_RACE_DESCRIPTION  AMERICAN INDIAN/ALASKAN NATIVE  \\\n",
       "no arrest                                             12   \n",
       "arrest                                                 4   \n",
       "Total                                                 16   \n",
       "\n",
       "SUSPECT_RACE_DESCRIPTION  ASIAN / PACIFIC ISLANDER  BLACK  BLACK HISPANIC  \\\n",
       "no arrest                                      170   4532             726   \n",
       "arrest                                          51   1709             252   \n",
       "Total                                          221   6241             978   \n",
       "\n",
       "SUSPECT_RACE_DESCRIPTION  WHITE  WHITE HISPANIC  \n",
       "no arrest                   771            1628  \n",
       "arrest                      303             783  \n",
       "Total                      1074            2411  "
      ]
     },
     "execution_count": 51,
     "metadata": {},
     "output_type": "execute_result"
    }
   ],
   "source": [
    "# adding new total row \n",
    "table2.loc['Total'] = table2.loc['no arrest'] + table2.loc['arrest']\n",
    "table2"
   ]
  },
  {
   "cell_type": "code",
   "execution_count": 52,
   "metadata": {
    "scrolled": true
   },
   "outputs": [
    {
     "data": {
      "text/html": [
       "<div>\n",
       "<style scoped>\n",
       "    .dataframe tbody tr th:only-of-type {\n",
       "        vertical-align: middle;\n",
       "    }\n",
       "\n",
       "    .dataframe tbody tr th {\n",
       "        vertical-align: top;\n",
       "    }\n",
       "\n",
       "    .dataframe thead th {\n",
       "        text-align: right;\n",
       "    }\n",
       "</style>\n",
       "<table border=\"1\" class=\"dataframe\">\n",
       "  <thead>\n",
       "    <tr style=\"text-align: right;\">\n",
       "      <th>SUSPECT_RACE_DESCRIPTION</th>\n",
       "      <th>AMERICAN INDIAN/ALASKAN NATIVE</th>\n",
       "      <th>ASIAN / PACIFIC ISLANDER</th>\n",
       "      <th>BLACK</th>\n",
       "      <th>BLACK HISPANIC</th>\n",
       "      <th>WHITE</th>\n",
       "      <th>WHITE HISPANIC</th>\n",
       "    </tr>\n",
       "  </thead>\n",
       "  <tbody>\n",
       "    <tr>\n",
       "      <th>no arrest</th>\n",
       "      <td>12.00</td>\n",
       "      <td>170.000000</td>\n",
       "      <td>4532.000000</td>\n",
       "      <td>726.000000</td>\n",
       "      <td>771.000000</td>\n",
       "      <td>1628.000000</td>\n",
       "    </tr>\n",
       "    <tr>\n",
       "      <th>arrest</th>\n",
       "      <td>4.00</td>\n",
       "      <td>51.000000</td>\n",
       "      <td>1709.000000</td>\n",
       "      <td>252.000000</td>\n",
       "      <td>303.000000</td>\n",
       "      <td>783.000000</td>\n",
       "    </tr>\n",
       "    <tr>\n",
       "      <th>Total</th>\n",
       "      <td>16.00</td>\n",
       "      <td>221.000000</td>\n",
       "      <td>6241.000000</td>\n",
       "      <td>978.000000</td>\n",
       "      <td>1074.000000</td>\n",
       "      <td>2411.000000</td>\n",
       "    </tr>\n",
       "    <tr>\n",
       "      <th>arrest_per</th>\n",
       "      <td>0.25</td>\n",
       "      <td>0.230769</td>\n",
       "      <td>0.273834</td>\n",
       "      <td>0.257669</td>\n",
       "      <td>0.282123</td>\n",
       "      <td>0.324762</td>\n",
       "    </tr>\n",
       "  </tbody>\n",
       "</table>\n",
       "</div>"
      ],
      "text/plain": [
       "SUSPECT_RACE_DESCRIPTION  AMERICAN INDIAN/ALASKAN NATIVE  \\\n",
       "no arrest                                          12.00   \n",
       "arrest                                              4.00   \n",
       "Total                                              16.00   \n",
       "arrest_per                                          0.25   \n",
       "\n",
       "SUSPECT_RACE_DESCRIPTION  ASIAN / PACIFIC ISLANDER        BLACK  \\\n",
       "no arrest                               170.000000  4532.000000   \n",
       "arrest                                   51.000000  1709.000000   \n",
       "Total                                   221.000000  6241.000000   \n",
       "arrest_per                                0.230769     0.273834   \n",
       "\n",
       "SUSPECT_RACE_DESCRIPTION  BLACK HISPANIC        WHITE  WHITE HISPANIC  \n",
       "no arrest                     726.000000   771.000000     1628.000000  \n",
       "arrest                        252.000000   303.000000      783.000000  \n",
       "Total                         978.000000  1074.000000     2411.000000  \n",
       "arrest_per                      0.257669     0.282123        0.324762  "
      ]
     },
     "execution_count": 52,
     "metadata": {},
     "output_type": "execute_result"
    }
   ],
   "source": [
    "#adding row for percentage arrested of stops \n",
    "table2.loc['arrest_per'] = table2.loc['arrest'] / table2.loc['Total']\n",
    "table2"
   ]
  },
  {
   "cell_type": "code",
   "execution_count": 53,
   "metadata": {},
   "outputs": [
    {
     "name": "stdout",
     "output_type": "stream",
     "text": [
      "Sample proportion is: 0.2835207019468056\n",
      "95% CI is: (0.27507527181754243, 0.2919661320760688)\n"
     ]
    }
   ],
   "source": [
    "#seeing overall proportion of those arrested \n",
    "CI_prop(3102, 10941)"
   ]
  },
  {
   "cell_type": "code",
   "execution_count": 54,
   "metadata": {},
   "outputs": [
    {
     "name": "stdout",
     "output_type": "stream",
     "text": [
      "Sample proportion is: 0.2738343214228489\n",
      "95% CI is: (0.262770866277214, 0.2848977765684838)\n"
     ]
    }
   ],
   "source": [
    "#CI for black proportion arrested \n",
    "CI_prop(1709, 6241)"
   ]
  },
  {
   "cell_type": "code",
   "execution_count": 55,
   "metadata": {},
   "outputs": [
    {
     "name": "stdout",
     "output_type": "stream",
     "text": [
      "Sample proportion is: 0.28212290502793297\n",
      "95% CI is: (0.25520767148156803, 0.3090381385742979)\n"
     ]
    }
   ],
   "source": [
    "#CI for white proportion arrested\n",
    "CI_prop(303, 1074)"
   ]
  },
  {
   "cell_type": "code",
   "execution_count": 56,
   "metadata": {},
   "outputs": [
    {
     "name": "stdout",
     "output_type": "stream",
     "text": [
      "Sample proportion is: 0.32476150974699297\n",
      "95% CI is: (0.3060689689536044, 0.34345405054038153)\n"
     ]
    }
   ],
   "source": [
    "# CI for white hispanic arrested\n",
    "CI_prop(783, 2411)"
   ]
  },
  {
   "cell_type": "code",
   "execution_count": 57,
   "metadata": {},
   "outputs": [
    {
     "name": "stdout",
     "output_type": "stream",
     "text": [
      "Sample proportion is: 0.23076923076923078\n",
      "95% CI is: (0.17522010741077387, 0.2863183541276877)\n"
     ]
    }
   ],
   "source": [
    "# CI for asian arrested\n",
    "CI_prop(51, 221)"
   ]
  },
  {
   "cell_type": "code",
   "execution_count": 58,
   "metadata": {},
   "outputs": [
    {
     "name": "stdout",
     "output_type": "stream",
     "text": [
      "Proportion difference is: -0.008288583605084054\n",
      "95% CI is: (-0.03738892443839462, 0.020811757228226514)\n"
     ]
    }
   ],
   "source": [
    "#black - white arrested\n",
    "CI_prop_diff(1709, 303, 6241, 1074)"
   ]
  },
  {
   "cell_type": "code",
   "execution_count": 59,
   "metadata": {},
   "outputs": [
    {
     "name": "stdout",
     "output_type": "stream",
     "text": [
      "Proportion difference is: 0.04263860471906\n",
      "95% CI is: (0.009869093307263481, 0.07540811613085652)\n"
     ]
    }
   ],
   "source": [
    "#white hispanic - white arrested\n",
    "CI_prop_diff(783, 303, 2411, 1074)"
   ]
  },
  {
   "cell_type": "code",
   "execution_count": 60,
   "metadata": {},
   "outputs": [
    {
     "name": "stdout",
     "output_type": "stream",
     "text": [
      "Proportion difference is: -0.02445419337149124\n",
      "95% CI is: (-0.06286985780027612, 0.013961471057293638)\n"
     ]
    }
   ],
   "source": [
    "#black hispanic - white arrested\n",
    "CI_prop_diff(252, 303, 978, 1074)"
   ]
  },
  {
   "cell_type": "code",
   "execution_count": 61,
   "metadata": {},
   "outputs": [
    {
     "name": "stdout",
     "output_type": "stream",
     "text": [
      "Proportion difference is: 0.04306509065361813\n",
      "95% CI is: (-0.013575046578317825, 0.09970522788555408)\n"
     ]
    }
   ],
   "source": [
    "#black - asian arrested\n",
    "CI_prop_diff(1709, 51, 6241, 221)"
   ]
  },
  {
   "cell_type": "code",
   "execution_count": 62,
   "metadata": {},
   "outputs": [
    {
     "name": "stdout",
     "output_type": "stream",
     "text": [
      "Proportion difference is: 0.05135367425870219\n",
      "95% CI is: (-0.010372615948537944, 0.11307996446594232)\n"
     ]
    }
   ],
   "source": [
    "#white - asian arrested\n",
    "CI_prop_diff(303, 51, 1074, 221)"
   ]
  },
  {
   "cell_type": "code",
   "execution_count": 63,
   "metadata": {
    "scrolled": false
   },
   "outputs": [
    {
     "data": {
      "image/png": "[encoded data removed]",
      "text/plain": [
       "<Figure size 720x432 with 1 Axes>"
      ]
     },
     "metadata": {
      "needs_background": "light"
     },
     "output_type": "display_data"
    }
   ],
   "source": [
    "#making bar chart of proportion arrested by race\n",
    "x_values = ['NATIVE', 'ASIAN / PACIFIC ISLANDER', 'BLACK', 'BLACK HISPANIC', 'WHITE', 'WHITE HISPANIC']\n",
    "y_values = table2.loc['arrest_per']\n",
    "\n",
    "fig, axs = plt.subplots(figsize=(10, 6)) # Change the figure size here       \n",
    "axs.bar(x_values, y_values, color=('mediumslateblue'), width=0.7) # You specify the color here     \n",
    "axs.set_title(\"Proportion arrested of those stopped\", fontsize=20, fontweight=\"bold\")   \n",
    "axs.set_xlabel(\"Race\", fontsize=14)\n",
    "axs.set_ylabel(\"Proportion arrested\", fontsize=14)\n",
    "axs.tick_params(labelsize=10) \n",
    "\n",
    "plt.text(x=-0.125, y=0.25, s=\"0.250\")\n",
    "plt.text(x=0.875, y=0.231, s=\"0.231\")\n",
    "plt.text(x=1.875, y=0.274, s=\"0.274\")\n",
    "plt.text(x=2.875, y=0.259, s=\"0.258\")\n",
    "plt.text(x=3.875, y=0.283, s=\"0.282\")\n",
    "plt.text(x=4.875, y=0.326, s=\"0.325\")\n",
    "\n",
    "plt.text(x=2.2, y=-.06, s=\"Source: NYPD 2018 Stop and Frisk Data [accessed Dec 2020]\")\n",
    "plt.show() "
   ]
  },
  {
   "cell_type": "code",
   "execution_count": 64,
   "metadata": {},
   "outputs": [
    {
     "data": {
      "text/html": [
       "<div>\n",
       "<style scoped>\n",
       "    .dataframe tbody tr th:only-of-type {\n",
       "        vertical-align: middle;\n",
       "    }\n",
       "\n",
       "    .dataframe tbody tr th {\n",
       "        vertical-align: top;\n",
       "    }\n",
       "\n",
       "    .dataframe thead th {\n",
       "        text-align: right;\n",
       "    }\n",
       "</style>\n",
       "<table border=\"1\" class=\"dataframe\">\n",
       "  <thead>\n",
       "    <tr style=\"text-align: right;\">\n",
       "      <th></th>\n",
       "      <th>SUSPECT_RACE_DESCRIPTION</th>\n",
       "      <th>PHYSICAL_FORCE_RESTRAINT_USED_FLAG</th>\n",
       "    </tr>\n",
       "  </thead>\n",
       "  <tbody>\n",
       "    <tr>\n",
       "      <th>0</th>\n",
       "      <td>WHITE</td>\n",
       "      <td>0</td>\n",
       "    </tr>\n",
       "    <tr>\n",
       "      <th>1</th>\n",
       "      <td>BLACK HISPANIC</td>\n",
       "      <td>0</td>\n",
       "    </tr>\n",
       "    <tr>\n",
       "      <th>2</th>\n",
       "      <td>WHITE HISPANIC</td>\n",
       "      <td>0</td>\n",
       "    </tr>\n",
       "    <tr>\n",
       "      <th>3</th>\n",
       "      <td>AMERICAN INDIAN/ALASKAN NATIVE</td>\n",
       "      <td>1</td>\n",
       "    </tr>\n",
       "    <tr>\n",
       "      <th>4</th>\n",
       "      <td>WHITE</td>\n",
       "      <td>1</td>\n",
       "    </tr>\n",
       "    <tr>\n",
       "      <th>...</th>\n",
       "      <td>...</td>\n",
       "      <td>...</td>\n",
       "    </tr>\n",
       "    <tr>\n",
       "      <th>11003</th>\n",
       "      <td>BLACK</td>\n",
       "      <td>0</td>\n",
       "    </tr>\n",
       "    <tr>\n",
       "      <th>11004</th>\n",
       "      <td>BLACK HISPANIC</td>\n",
       "      <td>0</td>\n",
       "    </tr>\n",
       "    <tr>\n",
       "      <th>11005</th>\n",
       "      <td>BLACK HISPANIC</td>\n",
       "      <td>0</td>\n",
       "    </tr>\n",
       "    <tr>\n",
       "      <th>11006</th>\n",
       "      <td>BLACK HISPANIC</td>\n",
       "      <td>0</td>\n",
       "    </tr>\n",
       "    <tr>\n",
       "      <th>11007</th>\n",
       "      <td>BLACK</td>\n",
       "      <td>0</td>\n",
       "    </tr>\n",
       "  </tbody>\n",
       "</table>\n",
       "<p>10941 rows × 2 columns</p>\n",
       "</div>"
      ],
      "text/plain": [
       "             SUSPECT_RACE_DESCRIPTION  PHYSICAL_FORCE_RESTRAINT_USED_FLAG\n",
       "0                               WHITE                                   0\n",
       "1                      BLACK HISPANIC                                   0\n",
       "2                      WHITE HISPANIC                                   0\n",
       "3      AMERICAN INDIAN/ALASKAN NATIVE                                   1\n",
       "4                               WHITE                                   1\n",
       "...                               ...                                 ...\n",
       "11003                           BLACK                                   0\n",
       "11004                  BLACK HISPANIC                                   0\n",
       "11005                  BLACK HISPANIC                                   0\n",
       "11006                  BLACK HISPANIC                                   0\n",
       "11007                           BLACK                                   0\n",
       "\n",
       "[10941 rows x 2 columns]"
      ]
     },
     "execution_count": 64,
     "metadata": {},
     "output_type": "execute_result"
    }
   ],
   "source": [
    "#now retrieving data for physical restraint and race for a new chi test\n",
    "force = df[['SUSPECT_RACE_DESCRIPTION', 'PHYSICAL_FORCE_RESTRAINT_USED_FLAG']]\n",
    "force.dropna()\n",
    "force"
   ]
  },
  {
   "cell_type": "code",
   "execution_count": 65,
   "metadata": {},
   "outputs": [
    {
     "data": {
      "text/html": [
       "<div>\n",
       "<style scoped>\n",
       "    .dataframe tbody tr th:only-of-type {\n",
       "        vertical-align: middle;\n",
       "    }\n",
       "\n",
       "    .dataframe tbody tr th {\n",
       "        vertical-align: top;\n",
       "    }\n",
       "\n",
       "    .dataframe thead th {\n",
       "        text-align: right;\n",
       "    }\n",
       "</style>\n",
       "<table border=\"1\" class=\"dataframe\">\n",
       "  <thead>\n",
       "    <tr style=\"text-align: right;\">\n",
       "      <th>SUSPECT_RACE_DESCRIPTION</th>\n",
       "      <th>AMERICAN INDIAN/ALASKAN NATIVE</th>\n",
       "      <th>ASIAN / PACIFIC ISLANDER</th>\n",
       "      <th>BLACK</th>\n",
       "      <th>BLACK HISPANIC</th>\n",
       "      <th>WHITE</th>\n",
       "      <th>WHITE HISPANIC</th>\n",
       "    </tr>\n",
       "    <tr>\n",
       "      <th>PHYSICAL_FORCE_RESTRAINT_USED_FLAG</th>\n",
       "      <th></th>\n",
       "      <th></th>\n",
       "      <th></th>\n",
       "      <th></th>\n",
       "      <th></th>\n",
       "      <th></th>\n",
       "    </tr>\n",
       "  </thead>\n",
       "  <tbody>\n",
       "    <tr>\n",
       "      <th>0</th>\n",
       "      <td>15</td>\n",
       "      <td>220</td>\n",
       "      <td>6052</td>\n",
       "      <td>959</td>\n",
       "      <td>1051</td>\n",
       "      <td>2365</td>\n",
       "    </tr>\n",
       "    <tr>\n",
       "      <th>1</th>\n",
       "      <td>1</td>\n",
       "      <td>1</td>\n",
       "      <td>189</td>\n",
       "      <td>19</td>\n",
       "      <td>23</td>\n",
       "      <td>46</td>\n",
       "    </tr>\n",
       "  </tbody>\n",
       "</table>\n",
       "</div>"
      ],
      "text/plain": [
       "SUSPECT_RACE_DESCRIPTION            AMERICAN INDIAN/ALASKAN NATIVE  \\\n",
       "PHYSICAL_FORCE_RESTRAINT_USED_FLAG                                   \n",
       "0                                                               15   \n",
       "1                                                                1   \n",
       "\n",
       "SUSPECT_RACE_DESCRIPTION            ASIAN / PACIFIC ISLANDER  BLACK  \\\n",
       "PHYSICAL_FORCE_RESTRAINT_USED_FLAG                                    \n",
       "0                                                        220   6052   \n",
       "1                                                          1    189   \n",
       "\n",
       "SUSPECT_RACE_DESCRIPTION            BLACK HISPANIC  WHITE  WHITE HISPANIC  \n",
       "PHYSICAL_FORCE_RESTRAINT_USED_FLAG                                         \n",
       "0                                              959   1051            2365  \n",
       "1                                               19     23              46  "
      ]
     },
     "execution_count": 65,
     "metadata": {},
     "output_type": "execute_result"
    }
   ],
   "source": [
    "#making a new two way table of physical restraint and race\n",
    "table5 = pd.crosstab(columns=force[\"SUSPECT_RACE_DESCRIPTION\"], index=force[\"PHYSICAL_FORCE_RESTRAINT_USED_FLAG\"])\n",
    "table5"
   ]
  },
  {
   "cell_type": "code",
   "execution_count": 66,
   "metadata": {},
   "outputs": [
    {
     "data": {
      "text/html": [
       "<div>\n",
       "<style scoped>\n",
       "    .dataframe tbody tr th:only-of-type {\n",
       "        vertical-align: middle;\n",
       "    }\n",
       "\n",
       "    .dataframe tbody tr th {\n",
       "        vertical-align: top;\n",
       "    }\n",
       "\n",
       "    .dataframe thead th {\n",
       "        text-align: right;\n",
       "    }\n",
       "</style>\n",
       "<table border=\"1\" class=\"dataframe\">\n",
       "  <thead>\n",
       "    <tr style=\"text-align: right;\">\n",
       "      <th>SUSPECT_RACE_DESCRIPTION</th>\n",
       "      <th>AMERICAN INDIAN/ALASKAN NATIVE</th>\n",
       "      <th>ASIAN / PACIFIC ISLANDER</th>\n",
       "      <th>BLACK</th>\n",
       "      <th>BLACK HISPANIC</th>\n",
       "      <th>WHITE</th>\n",
       "      <th>WHITE HISPANIC</th>\n",
       "    </tr>\n",
       "  </thead>\n",
       "  <tbody>\n",
       "    <tr>\n",
       "      <th>no restraint</th>\n",
       "      <td>15</td>\n",
       "      <td>220</td>\n",
       "      <td>6052</td>\n",
       "      <td>959</td>\n",
       "      <td>1051</td>\n",
       "      <td>2365</td>\n",
       "    </tr>\n",
       "    <tr>\n",
       "      <th>restraint</th>\n",
       "      <td>1</td>\n",
       "      <td>1</td>\n",
       "      <td>189</td>\n",
       "      <td>19</td>\n",
       "      <td>23</td>\n",
       "      <td>46</td>\n",
       "    </tr>\n",
       "  </tbody>\n",
       "</table>\n",
       "</div>"
      ],
      "text/plain": [
       "SUSPECT_RACE_DESCRIPTION  AMERICAN INDIAN/ALASKAN NATIVE  \\\n",
       "no restraint                                          15   \n",
       "restraint                                              1   \n",
       "\n",
       "SUSPECT_RACE_DESCRIPTION  ASIAN / PACIFIC ISLANDER  BLACK  BLACK HISPANIC  \\\n",
       "no restraint                                   220   6052             959   \n",
       "restraint                                        1    189              19   \n",
       "\n",
       "SUSPECT_RACE_DESCRIPTION  WHITE  WHITE HISPANIC  \n",
       "no restraint               1051            2365  \n",
       "restraint                    23              46  "
      ]
     },
     "execution_count": 66,
     "metadata": {},
     "output_type": "execute_result"
    }
   ],
   "source": [
    "#renaming the rows \n",
    "table5.index = ['no restraint', 'restraint']\n",
    "table5"
   ]
  },
  {
   "cell_type": "code",
   "execution_count": 67,
   "metadata": {
    "scrolled": true
   },
   "outputs": [
    {
     "data": {
      "text/html": [
       "<div>\n",
       "<style scoped>\n",
       "    .dataframe tbody tr th:only-of-type {\n",
       "        vertical-align: middle;\n",
       "    }\n",
       "\n",
       "    .dataframe tbody tr th {\n",
       "        vertical-align: top;\n",
       "    }\n",
       "\n",
       "    .dataframe thead th {\n",
       "        text-align: right;\n",
       "    }\n",
       "</style>\n",
       "<table border=\"1\" class=\"dataframe\">\n",
       "  <thead>\n",
       "    <tr style=\"text-align: right;\">\n",
       "      <th>SUSPECT_RACE_DESCRIPTION</th>\n",
       "      <th>AMERICAN INDIAN/ALASKAN NATIVE</th>\n",
       "      <th>ASIAN / PACIFIC ISLANDER</th>\n",
       "      <th>BLACK</th>\n",
       "      <th>BLACK HISPANIC</th>\n",
       "      <th>WHITE</th>\n",
       "      <th>WHITE HISPANIC</th>\n",
       "    </tr>\n",
       "  </thead>\n",
       "  <tbody>\n",
       "    <tr>\n",
       "      <th>no restraint</th>\n",
       "      <td>15.0000</td>\n",
       "      <td>220.000000</td>\n",
       "      <td>6052.000000</td>\n",
       "      <td>959.000000</td>\n",
       "      <td>1051.000000</td>\n",
       "      <td>2365.000000</td>\n",
       "    </tr>\n",
       "    <tr>\n",
       "      <th>restraint</th>\n",
       "      <td>1.0000</td>\n",
       "      <td>1.000000</td>\n",
       "      <td>189.000000</td>\n",
       "      <td>19.000000</td>\n",
       "      <td>23.000000</td>\n",
       "      <td>46.000000</td>\n",
       "    </tr>\n",
       "    <tr>\n",
       "      <th>Total</th>\n",
       "      <td>16.0000</td>\n",
       "      <td>221.000000</td>\n",
       "      <td>6241.000000</td>\n",
       "      <td>978.000000</td>\n",
       "      <td>1074.000000</td>\n",
       "      <td>2411.000000</td>\n",
       "    </tr>\n",
       "    <tr>\n",
       "      <th>restraint_per</th>\n",
       "      <td>0.0625</td>\n",
       "      <td>0.004525</td>\n",
       "      <td>0.030284</td>\n",
       "      <td>0.019427</td>\n",
       "      <td>0.021415</td>\n",
       "      <td>0.019079</td>\n",
       "    </tr>\n",
       "  </tbody>\n",
       "</table>\n",
       "</div>"
      ],
      "text/plain": [
       "SUSPECT_RACE_DESCRIPTION  AMERICAN INDIAN/ALASKAN NATIVE  \\\n",
       "no restraint                                     15.0000   \n",
       "restraint                                         1.0000   \n",
       "Total                                            16.0000   \n",
       "restraint_per                                     0.0625   \n",
       "\n",
       "SUSPECT_RACE_DESCRIPTION  ASIAN / PACIFIC ISLANDER        BLACK  \\\n",
       "no restraint                            220.000000  6052.000000   \n",
       "restraint                                 1.000000   189.000000   \n",
       "Total                                   221.000000  6241.000000   \n",
       "restraint_per                             0.004525     0.030284   \n",
       "\n",
       "SUSPECT_RACE_DESCRIPTION  BLACK HISPANIC        WHITE  WHITE HISPANIC  \n",
       "no restraint                  959.000000  1051.000000     2365.000000  \n",
       "restraint                      19.000000    23.000000       46.000000  \n",
       "Total                         978.000000  1074.000000     2411.000000  \n",
       "restraint_per                   0.019427     0.021415        0.019079  "
      ]
     },
     "execution_count": 67,
     "metadata": {},
     "output_type": "execute_result"
    }
   ],
   "source": [
    "#new columns for the total and for percentage restrained \n",
    "table5.loc['Total'] = table5.loc['no restraint'] + table5.loc['restraint']\n",
    "table5.loc['restraint_per'] = table5.loc['restraint'] / table5.loc['Total'] \n",
    "table5"
   ]
  },
  {
   "cell_type": "code",
   "execution_count": 68,
   "metadata": {},
   "outputs": [
    {
     "name": "stdout",
     "output_type": "stream",
     "text": [
      "Sample proportion is: 0.03028360839609037\n",
      "95% CI is: (0.0260319813680299, 0.03453523542415084)\n"
     ]
    }
   ],
   "source": [
    "#black restraint proportion \n",
    "CI_prop(189, 6241)"
   ]
  },
  {
   "cell_type": "code",
   "execution_count": 69,
   "metadata": {},
   "outputs": [
    {
     "name": "stdout",
     "output_type": "stream",
     "text": [
      "Sample proportion is: 0.021415270018621976\n",
      "95% CI is: (0.012757322970748138, 0.030073217066495815)\n"
     ]
    }
   ],
   "source": [
    "#white restraint proportion\n",
    "CI_prop(23, 1074)"
   ]
  },
  {
   "cell_type": "code",
   "execution_count": 70,
   "metadata": {},
   "outputs": [
    {
     "name": "stdout",
     "output_type": "stream",
     "text": [
      "Sample proportion is: 0.004524886877828055\n",
      "95% CI is: (-0.004323803543896737, 0.013373577299552845)\n"
     ]
    }
   ],
   "source": [
    "#asian restraint proportion\n",
    "CI_prop(1, 221)"
   ]
  },
  {
   "cell_type": "code",
   "execution_count": 71,
   "metadata": {},
   "outputs": [
    {
     "name": "stdout",
     "output_type": "stream",
     "text": [
      "Proportion difference is: 0.008868338377468393\n",
      "95% CI is: (-0.0007771983867309751, 0.01851387514166776)\n"
     ]
    }
   ],
   "source": [
    "#black-white restraint proportions\n",
    "CI_prop_diff(189, 23, 6241, 1074)"
   ]
  },
  {
   "cell_type": "code",
   "execution_count": 72,
   "metadata": {},
   "outputs": [
    {
     "name": "stdout",
     "output_type": "stream",
     "text": [
      "Proportion difference is: -0.025758721518262313\n",
      "95% CI is: (-0.0355758318143351, -0.015941611222189525)\n"
     ]
    }
   ],
   "source": [
    "#asian - black restraint proportions\n",
    "CI_prop_diff(1, 189, 221, 6241)"
   ]
  },
  {
   "cell_type": "code",
   "execution_count": 73,
   "metadata": {},
   "outputs": [
    {
     "data": {
      "image/png": "[encoded data removed]",
      "text/plain": [
       "<Figure size 720x432 with 1 Axes>"
      ]
     },
     "metadata": {
      "needs_background": "light"
     },
     "output_type": "display_data"
    }
   ],
   "source": [
    "#bar chart of physical restraint race breakdown\n",
    "x_values = ['NATIVE', 'ASIAN / PACIFIC ISLANDER', 'BLACK', 'BLACK HISPANIC', 'WHITE', 'WHITE HISPANIC']\n",
    "y_values = table5.loc['restraint_per']\n",
    "\n",
    "fig, axs = plt.subplots(figsize=(10, 6)) # Change the figure size here       \n",
    "axs.bar(x_values, y_values, color=('mediumslateblue'), width=0.7) # You specify the color here     \n",
    "axs.set_title(\"Proportion physically restrained of those stopped\", fontsize=20, fontweight=\"bold\")   \n",
    "axs.set_xlabel(\"Race\", fontsize=14)\n",
    "axs.set_ylabel(\"Proportion physically restrained\", fontsize=14)\n",
    "axs.tick_params(labelsize=10) \n",
    "\n",
    "plt.text(x=-0.15, y=0.0625, s=\"0.063\")\n",
    "plt.text(x=0.85, y=0.0045, s=\"0.005\")\n",
    "plt.text(x=1.85, y=0.0305, s=\"0.030\")\n",
    "plt.text(x=2.85, y=0.0195, s=\"0.019\")\n",
    "plt.text(x=3.85, y=0.0215, s=\"0.021\")\n",
    "plt.text(x=4.85, y=0.019, s=\"0.019\")\n",
    "plt.text(x=2.2, y=-.012, s=\"Source: NYPD 2018 Stop and Frisk Data [accessed Dec 2020]\")\n",
    "plt.show() "
   ]
  },
  {
   "cell_type": "code",
   "execution_count": 74,
   "metadata": {},
   "outputs": [
    {
     "data": {
      "text/html": [
       "<div>\n",
       "<style scoped>\n",
       "    .dataframe tbody tr th:only-of-type {\n",
       "        vertical-align: middle;\n",
       "    }\n",
       "\n",
       "    .dataframe tbody tr th {\n",
       "        vertical-align: top;\n",
       "    }\n",
       "\n",
       "    .dataframe thead th {\n",
       "        text-align: right;\n",
       "    }\n",
       "</style>\n",
       "<table border=\"1\" class=\"dataframe\">\n",
       "  <thead>\n",
       "    <tr style=\"text-align: right;\">\n",
       "      <th></th>\n",
       "      <th>SUSPECTED_CRIME_DESCRIPTION</th>\n",
       "      <th>SUSPECT_RACE_DESCRIPTION</th>\n",
       "    </tr>\n",
       "  </thead>\n",
       "  <tbody>\n",
       "    <tr>\n",
       "      <th>0</th>\n",
       "      <td>MENACING</td>\n",
       "      <td>WHITE</td>\n",
       "    </tr>\n",
       "    <tr>\n",
       "      <th>1</th>\n",
       "      <td>CPW</td>\n",
       "      <td>BLACK HISPANIC</td>\n",
       "    </tr>\n",
       "    <tr>\n",
       "      <th>2</th>\n",
       "      <td>GRAND LARCENY</td>\n",
       "      <td>WHITE HISPANIC</td>\n",
       "    </tr>\n",
       "    <tr>\n",
       "      <th>3</th>\n",
       "      <td>ROBBERY</td>\n",
       "      <td>AMERICAN INDIAN/ALASKAN NATIVE</td>\n",
       "    </tr>\n",
       "    <tr>\n",
       "      <th>4</th>\n",
       "      <td>ROBBERY</td>\n",
       "      <td>WHITE</td>\n",
       "    </tr>\n",
       "    <tr>\n",
       "      <th>...</th>\n",
       "      <td>...</td>\n",
       "      <td>...</td>\n",
       "    </tr>\n",
       "    <tr>\n",
       "      <th>11003</th>\n",
       "      <td>ROBBERY</td>\n",
       "      <td>BLACK</td>\n",
       "    </tr>\n",
       "    <tr>\n",
       "      <th>11004</th>\n",
       "      <td>PETIT LARCENY</td>\n",
       "      <td>BLACK HISPANIC</td>\n",
       "    </tr>\n",
       "    <tr>\n",
       "      <th>11005</th>\n",
       "      <td>PETIT LARCENY</td>\n",
       "      <td>BLACK HISPANIC</td>\n",
       "    </tr>\n",
       "    <tr>\n",
       "      <th>11006</th>\n",
       "      <td>PETIT LARCENY</td>\n",
       "      <td>BLACK HISPANIC</td>\n",
       "    </tr>\n",
       "    <tr>\n",
       "      <th>11007</th>\n",
       "      <td>CPW</td>\n",
       "      <td>BLACK</td>\n",
       "    </tr>\n",
       "  </tbody>\n",
       "</table>\n",
       "<p>10941 rows × 2 columns</p>\n",
       "</div>"
      ],
      "text/plain": [
       "      SUSPECTED_CRIME_DESCRIPTION        SUSPECT_RACE_DESCRIPTION\n",
       "0                        MENACING                           WHITE\n",
       "1                             CPW                  BLACK HISPANIC\n",
       "2                   GRAND LARCENY                  WHITE HISPANIC\n",
       "3                         ROBBERY  AMERICAN INDIAN/ALASKAN NATIVE\n",
       "4                         ROBBERY                           WHITE\n",
       "...                           ...                             ...\n",
       "11003                     ROBBERY                           BLACK\n",
       "11004               PETIT LARCENY                  BLACK HISPANIC\n",
       "11005               PETIT LARCENY                  BLACK HISPANIC\n",
       "11006               PETIT LARCENY                  BLACK HISPANIC\n",
       "11007                         CPW                           BLACK\n",
       "\n",
       "[10941 rows x 2 columns]"
      ]
     },
     "execution_count": 74,
     "metadata": {},
     "output_type": "execute_result"
    }
   ],
   "source": [
    "#retrieving two columns again for new chi test: suspected crime and race\n",
    "crime = df[['SUSPECTED_CRIME_DESCRIPTION', 'SUSPECT_RACE_DESCRIPTION']]\n",
    "crime.dropna()"
   ]
  },
  {
   "cell_type": "code",
   "execution_count": 75,
   "metadata": {},
   "outputs": [
    {
     "data": {
      "text/plain": [
       "CPW                                            2940\n",
       "ROBBERY                                        1597\n",
       "ASSAULT                                        1479\n",
       "PETIT LARCENY                                  1006\n",
       "BURGLARY                                        839\n",
       "OTHER                                           520\n",
       "CRIMINAL TRESPASS                               480\n",
       "GRAND LARCENY                                   440\n",
       "GRAND LARCENY AUTO                              347\n",
       "CRIMINAL POSSESSION OF MARIHUANA                251\n",
       "MENACING                                        221\n",
       "CRIMINAL MISCHIEF                               191\n",
       "CRIMINAL POSSESSION OF CONTROLLED SUBSTANCE      83\n",
       "UNAUTHORIZED USE OF A VEHICLE                    82\n",
       "CRIMINAL SALE OF CONTROLLED SUBSTANCE            82\n",
       "RECKLESS ENDANGERMENT                            58\n",
       "CPSP                                             56\n",
       "AUTO STRIPPIG                                    48\n",
       "MAKING GRAFFITI                                  42\n",
       "FORCIBLE TOUCHING                                35\n",
       "THEFT OF SERVICES                                34\n",
       "CRIMINAL SALE OF MARIHUANA                       25\n",
       "MURDER                                           22\n",
       "CRIMINAL POSSESSION OF FORGED INSTRUMENT         20\n",
       "RAPE                                             20\n",
       "PROSTITUTION                                     15\n",
       "TERRORISM                                         8\n",
       "Name: SUSPECTED_CRIME_DESCRIPTION, dtype: int64"
      ]
     },
     "execution_count": 75,
     "metadata": {},
     "output_type": "execute_result"
    }
   ],
   "source": [
    "#let's see all the crimes listed\n",
    "crime['SUSPECTED_CRIME_DESCRIPTION'].value_counts()\n",
    "#CPW = criminal possession of a weapon\n",
    "#CPSP = criminal possession of stolen property "
   ]
  },
  {
   "cell_type": "code",
   "execution_count": 76,
   "metadata": {},
   "outputs": [
    {
     "data": {
      "text/html": [
       "<div>\n",
       "<style scoped>\n",
       "    .dataframe tbody tr th:only-of-type {\n",
       "        vertical-align: middle;\n",
       "    }\n",
       "\n",
       "    .dataframe tbody tr th {\n",
       "        vertical-align: top;\n",
       "    }\n",
       "\n",
       "    .dataframe thead th {\n",
       "        text-align: right;\n",
       "    }\n",
       "</style>\n",
       "<table border=\"1\" class=\"dataframe\">\n",
       "  <thead>\n",
       "    <tr style=\"text-align: right;\">\n",
       "      <th>SUSPECTED_CRIME_DESCRIPTION</th>\n",
       "      <th>ASSAULT</th>\n",
       "      <th>AUTO STRIPPIG</th>\n",
       "      <th>BURGLARY</th>\n",
       "      <th>CPSP</th>\n",
       "      <th>CPW</th>\n",
       "      <th>CRIMINAL MISCHIEF</th>\n",
       "      <th>CRIMINAL POSSESSION OF CONTROLLED SUBSTANCE</th>\n",
       "      <th>CRIMINAL POSSESSION OF FORGED INSTRUMENT</th>\n",
       "      <th>CRIMINAL POSSESSION OF MARIHUANA</th>\n",
       "      <th>CRIMINAL SALE OF CONTROLLED SUBSTANCE</th>\n",
       "      <th>...</th>\n",
       "      <th>MURDER</th>\n",
       "      <th>OTHER</th>\n",
       "      <th>PETIT LARCENY</th>\n",
       "      <th>PROSTITUTION</th>\n",
       "      <th>RAPE</th>\n",
       "      <th>RECKLESS ENDANGERMENT</th>\n",
       "      <th>ROBBERY</th>\n",
       "      <th>TERRORISM</th>\n",
       "      <th>THEFT OF SERVICES</th>\n",
       "      <th>UNAUTHORIZED USE OF A VEHICLE</th>\n",
       "    </tr>\n",
       "    <tr>\n",
       "      <th>SUSPECT_RACE_DESCRIPTION</th>\n",
       "      <th></th>\n",
       "      <th></th>\n",
       "      <th></th>\n",
       "      <th></th>\n",
       "      <th></th>\n",
       "      <th></th>\n",
       "      <th></th>\n",
       "      <th></th>\n",
       "      <th></th>\n",
       "      <th></th>\n",
       "      <th></th>\n",
       "      <th></th>\n",
       "      <th></th>\n",
       "      <th></th>\n",
       "      <th></th>\n",
       "      <th></th>\n",
       "      <th></th>\n",
       "      <th></th>\n",
       "      <th></th>\n",
       "      <th></th>\n",
       "      <th></th>\n",
       "    </tr>\n",
       "  </thead>\n",
       "  <tbody>\n",
       "    <tr>\n",
       "      <th>AMERICAN INDIAN/ALASKAN NATIVE</th>\n",
       "      <td>0</td>\n",
       "      <td>0</td>\n",
       "      <td>1</td>\n",
       "      <td>0</td>\n",
       "      <td>2</td>\n",
       "      <td>3</td>\n",
       "      <td>0</td>\n",
       "      <td>0</td>\n",
       "      <td>0</td>\n",
       "      <td>0</td>\n",
       "      <td>...</td>\n",
       "      <td>0</td>\n",
       "      <td>2</td>\n",
       "      <td>1</td>\n",
       "      <td>0</td>\n",
       "      <td>0</td>\n",
       "      <td>0</td>\n",
       "      <td>1</td>\n",
       "      <td>0</td>\n",
       "      <td>0</td>\n",
       "      <td>0</td>\n",
       "    </tr>\n",
       "    <tr>\n",
       "      <th>ASIAN / PACIFIC ISLANDER</th>\n",
       "      <td>37</td>\n",
       "      <td>0</td>\n",
       "      <td>34</td>\n",
       "      <td>1</td>\n",
       "      <td>37</td>\n",
       "      <td>4</td>\n",
       "      <td>2</td>\n",
       "      <td>4</td>\n",
       "      <td>3</td>\n",
       "      <td>1</td>\n",
       "      <td>...</td>\n",
       "      <td>0</td>\n",
       "      <td>9</td>\n",
       "      <td>16</td>\n",
       "      <td>1</td>\n",
       "      <td>4</td>\n",
       "      <td>0</td>\n",
       "      <td>25</td>\n",
       "      <td>1</td>\n",
       "      <td>1</td>\n",
       "      <td>0</td>\n",
       "    </tr>\n",
       "    <tr>\n",
       "      <th>BLACK</th>\n",
       "      <td>829</td>\n",
       "      <td>23</td>\n",
       "      <td>361</td>\n",
       "      <td>25</td>\n",
       "      <td>1926</td>\n",
       "      <td>91</td>\n",
       "      <td>36</td>\n",
       "      <td>12</td>\n",
       "      <td>132</td>\n",
       "      <td>38</td>\n",
       "      <td>...</td>\n",
       "      <td>14</td>\n",
       "      <td>266</td>\n",
       "      <td>580</td>\n",
       "      <td>5</td>\n",
       "      <td>7</td>\n",
       "      <td>42</td>\n",
       "      <td>947</td>\n",
       "      <td>0</td>\n",
       "      <td>19</td>\n",
       "      <td>31</td>\n",
       "    </tr>\n",
       "    <tr>\n",
       "      <th>BLACK HISPANIC</th>\n",
       "      <td>160</td>\n",
       "      <td>4</td>\n",
       "      <td>74</td>\n",
       "      <td>3</td>\n",
       "      <td>233</td>\n",
       "      <td>18</td>\n",
       "      <td>4</td>\n",
       "      <td>0</td>\n",
       "      <td>30</td>\n",
       "      <td>5</td>\n",
       "      <td>...</td>\n",
       "      <td>1</td>\n",
       "      <td>57</td>\n",
       "      <td>69</td>\n",
       "      <td>0</td>\n",
       "      <td>4</td>\n",
       "      <td>4</td>\n",
       "      <td>135</td>\n",
       "      <td>0</td>\n",
       "      <td>2</td>\n",
       "      <td>5</td>\n",
       "    </tr>\n",
       "    <tr>\n",
       "      <th>WHITE</th>\n",
       "      <td>113</td>\n",
       "      <td>7</td>\n",
       "      <td>175</td>\n",
       "      <td>6</td>\n",
       "      <td>171</td>\n",
       "      <td>22</td>\n",
       "      <td>18</td>\n",
       "      <td>3</td>\n",
       "      <td>7</td>\n",
       "      <td>13</td>\n",
       "      <td>...</td>\n",
       "      <td>2</td>\n",
       "      <td>66</td>\n",
       "      <td>159</td>\n",
       "      <td>3</td>\n",
       "      <td>0</td>\n",
       "      <td>0</td>\n",
       "      <td>105</td>\n",
       "      <td>7</td>\n",
       "      <td>10</td>\n",
       "      <td>16</td>\n",
       "    </tr>\n",
       "    <tr>\n",
       "      <th>WHITE HISPANIC</th>\n",
       "      <td>340</td>\n",
       "      <td>14</td>\n",
       "      <td>194</td>\n",
       "      <td>21</td>\n",
       "      <td>571</td>\n",
       "      <td>53</td>\n",
       "      <td>23</td>\n",
       "      <td>1</td>\n",
       "      <td>79</td>\n",
       "      <td>25</td>\n",
       "      <td>...</td>\n",
       "      <td>5</td>\n",
       "      <td>120</td>\n",
       "      <td>181</td>\n",
       "      <td>6</td>\n",
       "      <td>5</td>\n",
       "      <td>12</td>\n",
       "      <td>384</td>\n",
       "      <td>0</td>\n",
       "      <td>2</td>\n",
       "      <td>30</td>\n",
       "    </tr>\n",
       "  </tbody>\n",
       "</table>\n",
       "<p>6 rows × 27 columns</p>\n",
       "</div>"
      ],
      "text/plain": [
       "SUSPECTED_CRIME_DESCRIPTION     ASSAULT  AUTO STRIPPIG  BURGLARY  CPSP   CPW  \\\n",
       "SUSPECT_RACE_DESCRIPTION                                                       \n",
       "AMERICAN INDIAN/ALASKAN NATIVE        0              0         1     0     2   \n",
       "ASIAN / PACIFIC ISLANDER             37              0        34     1    37   \n",
       "BLACK                               829             23       361    25  1926   \n",
       "BLACK HISPANIC                      160              4        74     3   233   \n",
       "WHITE                               113              7       175     6   171   \n",
       "WHITE HISPANIC                      340             14       194    21   571   \n",
       "\n",
       "SUSPECTED_CRIME_DESCRIPTION     CRIMINAL MISCHIEF  \\\n",
       "SUSPECT_RACE_DESCRIPTION                            \n",
       "AMERICAN INDIAN/ALASKAN NATIVE                  3   \n",
       "ASIAN / PACIFIC ISLANDER                        4   \n",
       "BLACK                                          91   \n",
       "BLACK HISPANIC                                 18   \n",
       "WHITE                                          22   \n",
       "WHITE HISPANIC                                 53   \n",
       "\n",
       "SUSPECTED_CRIME_DESCRIPTION     CRIMINAL POSSESSION OF CONTROLLED SUBSTANCE  \\\n",
       "SUSPECT_RACE_DESCRIPTION                                                      \n",
       "AMERICAN INDIAN/ALASKAN NATIVE                                            0   \n",
       "ASIAN / PACIFIC ISLANDER                                                  2   \n",
       "BLACK                                                                    36   \n",
       "BLACK HISPANIC                                                            4   \n",
       "WHITE                                                                    18   \n",
       "WHITE HISPANIC                                                           23   \n",
       "\n",
       "SUSPECTED_CRIME_DESCRIPTION     CRIMINAL POSSESSION OF FORGED INSTRUMENT  \\\n",
       "SUSPECT_RACE_DESCRIPTION                                                   \n",
       "AMERICAN INDIAN/ALASKAN NATIVE                                         0   \n",
       "ASIAN / PACIFIC ISLANDER                                               4   \n",
       "BLACK                                                                 12   \n",
       "BLACK HISPANIC                                                         0   \n",
       "WHITE                                                                  3   \n",
       "WHITE HISPANIC                                                         1   \n",
       "\n",
       "SUSPECTED_CRIME_DESCRIPTION     CRIMINAL POSSESSION OF MARIHUANA  \\\n",
       "SUSPECT_RACE_DESCRIPTION                                           \n",
       "AMERICAN INDIAN/ALASKAN NATIVE                                 0   \n",
       "ASIAN / PACIFIC ISLANDER                                       3   \n",
       "BLACK                                                        132   \n",
       "BLACK HISPANIC                                                30   \n",
       "WHITE                                                          7   \n",
       "WHITE HISPANIC                                                79   \n",
       "\n",
       "SUSPECTED_CRIME_DESCRIPTION     CRIMINAL SALE OF CONTROLLED SUBSTANCE  ...  \\\n",
       "SUSPECT_RACE_DESCRIPTION                                               ...   \n",
       "AMERICAN INDIAN/ALASKAN NATIVE                                      0  ...   \n",
       "ASIAN / PACIFIC ISLANDER                                            1  ...   \n",
       "BLACK                                                              38  ...   \n",
       "BLACK HISPANIC                                                      5  ...   \n",
       "WHITE                                                              13  ...   \n",
       "WHITE HISPANIC                                                     25  ...   \n",
       "\n",
       "SUSPECTED_CRIME_DESCRIPTION     MURDER  OTHER  PETIT LARCENY  PROSTITUTION  \\\n",
       "SUSPECT_RACE_DESCRIPTION                                                     \n",
       "AMERICAN INDIAN/ALASKAN NATIVE       0      2              1             0   \n",
       "ASIAN / PACIFIC ISLANDER             0      9             16             1   \n",
       "BLACK                               14    266            580             5   \n",
       "BLACK HISPANIC                       1     57             69             0   \n",
       "WHITE                                2     66            159             3   \n",
       "WHITE HISPANIC                       5    120            181             6   \n",
       "\n",
       "SUSPECTED_CRIME_DESCRIPTION     RAPE  RECKLESS ENDANGERMENT  ROBBERY  \\\n",
       "SUSPECT_RACE_DESCRIPTION                                               \n",
       "AMERICAN INDIAN/ALASKAN NATIVE     0                      0        1   \n",
       "ASIAN / PACIFIC ISLANDER           4                      0       25   \n",
       "BLACK                              7                     42      947   \n",
       "BLACK HISPANIC                     4                      4      135   \n",
       "WHITE                              0                      0      105   \n",
       "WHITE HISPANIC                     5                     12      384   \n",
       "\n",
       "SUSPECTED_CRIME_DESCRIPTION     TERRORISM  THEFT OF SERVICES  \\\n",
       "SUSPECT_RACE_DESCRIPTION                                       \n",
       "AMERICAN INDIAN/ALASKAN NATIVE          0                  0   \n",
       "ASIAN / PACIFIC ISLANDER                1                  1   \n",
       "BLACK                                   0                 19   \n",
       "BLACK HISPANIC                          0                  2   \n",
       "WHITE                                   7                 10   \n",
       "WHITE HISPANIC                          0                  2   \n",
       "\n",
       "SUSPECTED_CRIME_DESCRIPTION     UNAUTHORIZED USE OF A VEHICLE  \n",
       "SUSPECT_RACE_DESCRIPTION                                       \n",
       "AMERICAN INDIAN/ALASKAN NATIVE                              0  \n",
       "ASIAN / PACIFIC ISLANDER                                    0  \n",
       "BLACK                                                      31  \n",
       "BLACK HISPANIC                                              5  \n",
       "WHITE                                                      16  \n",
       "WHITE HISPANIC                                             30  \n",
       "\n",
       "[6 rows x 27 columns]"
      ]
     },
     "execution_count": 76,
     "metadata": {},
     "output_type": "execute_result"
    }
   ],
   "source": [
    "#two way table of suspected crimes and race\n",
    "ctable = pd.crosstab(columns=crime['SUSPECTED_CRIME_DESCRIPTION'], index=crime['SUSPECT_RACE_DESCRIPTION'])\n",
    "ctable"
   ]
  },
  {
   "cell_type": "code",
   "execution_count": 77,
   "metadata": {
    "scrolled": true
   },
   "outputs": [
    {
     "data": {
      "text/html": [
       "<div>\n",
       "<style scoped>\n",
       "    .dataframe tbody tr th:only-of-type {\n",
       "        vertical-align: middle;\n",
       "    }\n",
       "\n",
       "    .dataframe tbody tr th {\n",
       "        vertical-align: top;\n",
       "    }\n",
       "\n",
       "    .dataframe thead th {\n",
       "        text-align: right;\n",
       "    }\n",
       "</style>\n",
       "<table border=\"1\" class=\"dataframe\">\n",
       "  <thead>\n",
       "    <tr style=\"text-align: right;\">\n",
       "      <th>SUSPECTED_CRIME_DESCRIPTION</th>\n",
       "      <th>ASSAULT</th>\n",
       "      <th>AUTO STRIPPIG</th>\n",
       "      <th>BURGLARY</th>\n",
       "      <th>CPSP</th>\n",
       "      <th>CPW</th>\n",
       "      <th>CRIMINAL MISCHIEF</th>\n",
       "      <th>CRIMINAL POSSESSION OF CONTROLLED SUBSTANCE</th>\n",
       "      <th>CRIMINAL POSSESSION OF FORGED INSTRUMENT</th>\n",
       "      <th>CRIMINAL POSSESSION OF MARIHUANA</th>\n",
       "      <th>CRIMINAL SALE OF CONTROLLED SUBSTANCE</th>\n",
       "      <th>...</th>\n",
       "      <th>PROSTITUTION</th>\n",
       "      <th>RAPE</th>\n",
       "      <th>RECKLESS ENDANGERMENT</th>\n",
       "      <th>ROBBERY</th>\n",
       "      <th>TERRORISM</th>\n",
       "      <th>THEFT OF SERVICES</th>\n",
       "      <th>UNAUTHORIZED USE OF A VEHICLE</th>\n",
       "      <th>Total</th>\n",
       "      <th>mj_per</th>\n",
       "      <th>menacing_per</th>\n",
       "    </tr>\n",
       "    <tr>\n",
       "      <th>SUSPECT_RACE_DESCRIPTION</th>\n",
       "      <th></th>\n",
       "      <th></th>\n",
       "      <th></th>\n",
       "      <th></th>\n",
       "      <th></th>\n",
       "      <th></th>\n",
       "      <th></th>\n",
       "      <th></th>\n",
       "      <th></th>\n",
       "      <th></th>\n",
       "      <th></th>\n",
       "      <th></th>\n",
       "      <th></th>\n",
       "      <th></th>\n",
       "      <th></th>\n",
       "      <th></th>\n",
       "      <th></th>\n",
       "      <th></th>\n",
       "      <th></th>\n",
       "      <th></th>\n",
       "      <th></th>\n",
       "    </tr>\n",
       "  </thead>\n",
       "  <tbody>\n",
       "    <tr>\n",
       "      <th>AMERICAN INDIAN/ALASKAN NATIVE</th>\n",
       "      <td>0</td>\n",
       "      <td>0</td>\n",
       "      <td>1</td>\n",
       "      <td>0</td>\n",
       "      <td>2</td>\n",
       "      <td>3</td>\n",
       "      <td>0</td>\n",
       "      <td>0</td>\n",
       "      <td>0</td>\n",
       "      <td>0</td>\n",
       "      <td>...</td>\n",
       "      <td>0</td>\n",
       "      <td>0</td>\n",
       "      <td>0</td>\n",
       "      <td>1</td>\n",
       "      <td>0</td>\n",
       "      <td>0</td>\n",
       "      <td>0</td>\n",
       "      <td>16</td>\n",
       "      <td>0.000000</td>\n",
       "      <td>0.000000</td>\n",
       "    </tr>\n",
       "    <tr>\n",
       "      <th>ASIAN / PACIFIC ISLANDER</th>\n",
       "      <td>37</td>\n",
       "      <td>0</td>\n",
       "      <td>34</td>\n",
       "      <td>1</td>\n",
       "      <td>37</td>\n",
       "      <td>4</td>\n",
       "      <td>2</td>\n",
       "      <td>4</td>\n",
       "      <td>3</td>\n",
       "      <td>1</td>\n",
       "      <td>...</td>\n",
       "      <td>1</td>\n",
       "      <td>4</td>\n",
       "      <td>0</td>\n",
       "      <td>25</td>\n",
       "      <td>1</td>\n",
       "      <td>1</td>\n",
       "      <td>0</td>\n",
       "      <td>221</td>\n",
       "      <td>0.013575</td>\n",
       "      <td>0.040724</td>\n",
       "    </tr>\n",
       "    <tr>\n",
       "      <th>BLACK</th>\n",
       "      <td>829</td>\n",
       "      <td>23</td>\n",
       "      <td>361</td>\n",
       "      <td>25</td>\n",
       "      <td>1926</td>\n",
       "      <td>91</td>\n",
       "      <td>36</td>\n",
       "      <td>12</td>\n",
       "      <td>132</td>\n",
       "      <td>38</td>\n",
       "      <td>...</td>\n",
       "      <td>5</td>\n",
       "      <td>7</td>\n",
       "      <td>42</td>\n",
       "      <td>947</td>\n",
       "      <td>0</td>\n",
       "      <td>19</td>\n",
       "      <td>31</td>\n",
       "      <td>6241</td>\n",
       "      <td>0.021150</td>\n",
       "      <td>0.020990</td>\n",
       "    </tr>\n",
       "    <tr>\n",
       "      <th>BLACK HISPANIC</th>\n",
       "      <td>160</td>\n",
       "      <td>4</td>\n",
       "      <td>74</td>\n",
       "      <td>3</td>\n",
       "      <td>233</td>\n",
       "      <td>18</td>\n",
       "      <td>4</td>\n",
       "      <td>0</td>\n",
       "      <td>30</td>\n",
       "      <td>5</td>\n",
       "      <td>...</td>\n",
       "      <td>0</td>\n",
       "      <td>4</td>\n",
       "      <td>4</td>\n",
       "      <td>135</td>\n",
       "      <td>0</td>\n",
       "      <td>2</td>\n",
       "      <td>5</td>\n",
       "      <td>978</td>\n",
       "      <td>0.030675</td>\n",
       "      <td>0.026585</td>\n",
       "    </tr>\n",
       "    <tr>\n",
       "      <th>WHITE</th>\n",
       "      <td>113</td>\n",
       "      <td>7</td>\n",
       "      <td>175</td>\n",
       "      <td>6</td>\n",
       "      <td>171</td>\n",
       "      <td>22</td>\n",
       "      <td>18</td>\n",
       "      <td>3</td>\n",
       "      <td>7</td>\n",
       "      <td>13</td>\n",
       "      <td>...</td>\n",
       "      <td>3</td>\n",
       "      <td>0</td>\n",
       "      <td>0</td>\n",
       "      <td>105</td>\n",
       "      <td>7</td>\n",
       "      <td>10</td>\n",
       "      <td>16</td>\n",
       "      <td>1074</td>\n",
       "      <td>0.006518</td>\n",
       "      <td>0.010242</td>\n",
       "    </tr>\n",
       "    <tr>\n",
       "      <th>WHITE HISPANIC</th>\n",
       "      <td>340</td>\n",
       "      <td>14</td>\n",
       "      <td>194</td>\n",
       "      <td>21</td>\n",
       "      <td>571</td>\n",
       "      <td>53</td>\n",
       "      <td>23</td>\n",
       "      <td>1</td>\n",
       "      <td>79</td>\n",
       "      <td>25</td>\n",
       "      <td>...</td>\n",
       "      <td>6</td>\n",
       "      <td>5</td>\n",
       "      <td>12</td>\n",
       "      <td>384</td>\n",
       "      <td>0</td>\n",
       "      <td>2</td>\n",
       "      <td>30</td>\n",
       "      <td>2411</td>\n",
       "      <td>0.032766</td>\n",
       "      <td>0.018250</td>\n",
       "    </tr>\n",
       "  </tbody>\n",
       "</table>\n",
       "<p>6 rows × 30 columns</p>\n",
       "</div>"
      ],
      "text/plain": [
       "SUSPECTED_CRIME_DESCRIPTION     ASSAULT  AUTO STRIPPIG  BURGLARY  CPSP   CPW  \\\n",
       "SUSPECT_RACE_DESCRIPTION                                                       \n",
       "AMERICAN INDIAN/ALASKAN NATIVE        0              0         1     0     2   \n",
       "ASIAN / PACIFIC ISLANDER             37              0        34     1    37   \n",
       "BLACK                               829             23       361    25  1926   \n",
       "BLACK HISPANIC                      160              4        74     3   233   \n",
       "WHITE                               113              7       175     6   171   \n",
       "WHITE HISPANIC                      340             14       194    21   571   \n",
       "\n",
       "SUSPECTED_CRIME_DESCRIPTION     CRIMINAL MISCHIEF  \\\n",
       "SUSPECT_RACE_DESCRIPTION                            \n",
       "AMERICAN INDIAN/ALASKAN NATIVE                  3   \n",
       "ASIAN / PACIFIC ISLANDER                        4   \n",
       "BLACK                                          91   \n",
       "BLACK HISPANIC                                 18   \n",
       "WHITE                                          22   \n",
       "WHITE HISPANIC                                 53   \n",
       "\n",
       "SUSPECTED_CRIME_DESCRIPTION     CRIMINAL POSSESSION OF CONTROLLED SUBSTANCE  \\\n",
       "SUSPECT_RACE_DESCRIPTION                                                      \n",
       "AMERICAN INDIAN/ALASKAN NATIVE                                            0   \n",
       "ASIAN / PACIFIC ISLANDER                                                  2   \n",
       "BLACK                                                                    36   \n",
       "BLACK HISPANIC                                                            4   \n",
       "WHITE                                                                    18   \n",
       "WHITE HISPANIC                                                           23   \n",
       "\n",
       "SUSPECTED_CRIME_DESCRIPTION     CRIMINAL POSSESSION OF FORGED INSTRUMENT  \\\n",
       "SUSPECT_RACE_DESCRIPTION                                                   \n",
       "AMERICAN INDIAN/ALASKAN NATIVE                                         0   \n",
       "ASIAN / PACIFIC ISLANDER                                               4   \n",
       "BLACK                                                                 12   \n",
       "BLACK HISPANIC                                                         0   \n",
       "WHITE                                                                  3   \n",
       "WHITE HISPANIC                                                         1   \n",
       "\n",
       "SUSPECTED_CRIME_DESCRIPTION     CRIMINAL POSSESSION OF MARIHUANA  \\\n",
       "SUSPECT_RACE_DESCRIPTION                                           \n",
       "AMERICAN INDIAN/ALASKAN NATIVE                                 0   \n",
       "ASIAN / PACIFIC ISLANDER                                       3   \n",
       "BLACK                                                        132   \n",
       "BLACK HISPANIC                                                30   \n",
       "WHITE                                                          7   \n",
       "WHITE HISPANIC                                                79   \n",
       "\n",
       "SUSPECTED_CRIME_DESCRIPTION     CRIMINAL SALE OF CONTROLLED SUBSTANCE  ...  \\\n",
       "SUSPECT_RACE_DESCRIPTION                                               ...   \n",
       "AMERICAN INDIAN/ALASKAN NATIVE                                      0  ...   \n",
       "ASIAN / PACIFIC ISLANDER                                            1  ...   \n",
       "BLACK                                                              38  ...   \n",
       "BLACK HISPANIC                                                      5  ...   \n",
       "WHITE                                                              13  ...   \n",
       "WHITE HISPANIC                                                     25  ...   \n",
       "\n",
       "SUSPECTED_CRIME_DESCRIPTION     PROSTITUTION  RAPE  RECKLESS ENDANGERMENT  \\\n",
       "SUSPECT_RACE_DESCRIPTION                                                    \n",
       "AMERICAN INDIAN/ALASKAN NATIVE             0     0                      0   \n",
       "ASIAN / PACIFIC ISLANDER                   1     4                      0   \n",
       "BLACK                                      5     7                     42   \n",
       "BLACK HISPANIC                             0     4                      4   \n",
       "WHITE                                      3     0                      0   \n",
       "WHITE HISPANIC                             6     5                     12   \n",
       "\n",
       "SUSPECTED_CRIME_DESCRIPTION     ROBBERY  TERRORISM  THEFT OF SERVICES  \\\n",
       "SUSPECT_RACE_DESCRIPTION                                                \n",
       "AMERICAN INDIAN/ALASKAN NATIVE        1          0                  0   \n",
       "ASIAN / PACIFIC ISLANDER             25          1                  1   \n",
       "BLACK                               947          0                 19   \n",
       "BLACK HISPANIC                      135          0                  2   \n",
       "WHITE                               105          7                 10   \n",
       "WHITE HISPANIC                      384          0                  2   \n",
       "\n",
       "SUSPECTED_CRIME_DESCRIPTION     UNAUTHORIZED USE OF A VEHICLE  Total  \\\n",
       "SUSPECT_RACE_DESCRIPTION                                               \n",
       "AMERICAN INDIAN/ALASKAN NATIVE                              0     16   \n",
       "ASIAN / PACIFIC ISLANDER                                    0    221   \n",
       "BLACK                                                      31   6241   \n",
       "BLACK HISPANIC                                              5    978   \n",
       "WHITE                                                      16   1074   \n",
       "WHITE HISPANIC                                             30   2411   \n",
       "\n",
       "SUSPECTED_CRIME_DESCRIPTION       mj_per  menacing_per  \n",
       "SUSPECT_RACE_DESCRIPTION                                \n",
       "AMERICAN INDIAN/ALASKAN NATIVE  0.000000      0.000000  \n",
       "ASIAN / PACIFIC ISLANDER        0.013575      0.040724  \n",
       "BLACK                           0.021150      0.020990  \n",
       "BLACK HISPANIC                  0.030675      0.026585  \n",
       "WHITE                           0.006518      0.010242  \n",
       "WHITE HISPANIC                  0.032766      0.018250  \n",
       "\n",
       "[6 rows x 30 columns]"
      ]
     },
     "execution_count": 77,
     "metadata": {},
     "output_type": "execute_result"
    }
   ],
   "source": [
    "#new columns: total, proportion of stops suspected of marijuana possession, and proportion of stops suspected of menacing\n",
    "ctable['Total'] = [16, 221, 6241, 978, 1074, 2411]\n",
    "ctable['mj_per'] = ctable['CRIMINAL POSSESSION OF MARIHUANA'] / ctable['Total']\n",
    "ctable['menacing_per'] = ctable['MENACING'] / ctable['Total']\n",
    "ctable"
   ]
  },
  {
   "cell_type": "code",
   "execution_count": 78,
   "metadata": {},
   "outputs": [
    {
     "name": "stdout",
     "output_type": "stream",
     "text": [
      "Sample proportion is: 0.021150456657586924\n",
      "95% CI is: (0.017580632487716207, 0.02472028082745764)\n"
     ]
    }
   ],
   "source": [
    "#mariajuana proportion black\n",
    "CI_prop(132, 6241)"
   ]
  },
  {
   "cell_type": "code",
   "execution_count": 79,
   "metadata": {},
   "outputs": [
    {
     "name": "stdout",
     "output_type": "stream",
     "text": [
      "Sample proportion is: 0.006517690875232775\n",
      "95% CI is: (0.001705078549276904, 0.011330303201188646)\n"
     ]
    }
   ],
   "source": [
    "#marijuana proportion white\n",
    "CI_prop(7, 1074)"
   ]
  },
  {
   "cell_type": "code",
   "execution_count": 80,
   "metadata": {},
   "outputs": [
    {
     "name": "stdout",
     "output_type": "stream",
     "text": [
      "Sample proportion is: 0.03067484662576687\n",
      "95% CI is: (0.01986766164281916, 0.04148203160871458)\n"
     ]
    }
   ],
   "source": [
    "#black hispanic proportion marijuana\n",
    "CI_prop(30, 978)"
   ]
  },
  {
   "cell_type": "code",
   "execution_count": 81,
   "metadata": {},
   "outputs": [
    {
     "name": "stdout",
     "output_type": "stream",
     "text": [
      "Sample proportion is: 0.032766486934881794\n",
      "95% CI is: (0.025660276328945995, 0.03987269754081759)\n"
     ]
    }
   ],
   "source": [
    "#white hispanic proportion marijuana\n",
    "CI_prop(79, 2411)"
   ]
  },
  {
   "cell_type": "code",
   "execution_count": 82,
   "metadata": {
    "scrolled": true
   },
   "outputs": [
    {
     "name": "stdout",
     "output_type": "stream",
     "text": [
      "Proportion difference is: 0.01463276578235415\n",
      "95% CI is: (0.008640697524754312, 0.020624834039953986)\n"
     ]
    }
   ],
   "source": [
    "#proportion stopped for suspected marijuana possession: black-white\n",
    "CI_prop_diff(132, 7, 6241, 1074)"
   ]
  },
  {
   "cell_type": "code",
   "execution_count": 83,
   "metadata": {},
   "outputs": [
    {
     "name": "stdout",
     "output_type": "stream",
     "text": [
      "Proportion difference is: 0.024157155750534096\n",
      "95% CI is: (0.01232683518617098, 0.03598747631489721)\n"
     ]
    }
   ],
   "source": [
    "#marijuana black hispanic - white\n",
    "CI_prop_diff(30, 7, 978, 1074)"
   ]
  },
  {
   "cell_type": "code",
   "execution_count": 84,
   "metadata": {},
   "outputs": [
    {
     "name": "stdout",
     "output_type": "stream",
     "text": [
      "Proportion difference is: 0.02624879605964902\n",
      "95% CI is: (0.017666286719376978, 0.03483130539992106)\n"
     ]
    }
   ],
   "source": [
    "#marijuana white hispanic - white\n",
    "CI_prop_diff(79, 7, 2411, 1074)"
   ]
  },
  {
   "cell_type": "code",
   "execution_count": 85,
   "metadata": {},
   "outputs": [
    {
     "name": "stdout",
     "output_type": "stream",
     "text": [
      "Sample proportion is: 0.02099022592533248\n",
      "95% CI is: (0.017433658467435293, 0.024546793383229664)\n"
     ]
    }
   ],
   "source": [
    "#proportion menacing black\n",
    "CI_prop(131, 6241)"
   ]
  },
  {
   "cell_type": "code",
   "execution_count": 86,
   "metadata": {},
   "outputs": [
    {
     "name": "stdout",
     "output_type": "stream",
     "text": [
      "Sample proportion is: 0.010242085661080074\n",
      "95% CI is: (0.004220475662486049, 0.016263695659674098)\n"
     ]
    }
   ],
   "source": [
    "#proportion menacing white\n",
    "CI_prop(11, 1074)"
   ]
  },
  {
   "cell_type": "code",
   "execution_count": 87,
   "metadata": {},
   "outputs": [
    {
     "name": "stdout",
     "output_type": "stream",
     "text": [
      "Proportion difference is: 0.010748140264252404\n",
      "95% CI is: (0.0037546462120821465, 0.01774163431642266)\n"
     ]
    }
   ],
   "source": [
    "#proportion stopped for menacing: black-white\n",
    "CI_prop_diff(131, 11, 6241, 1074)"
   ]
  },
  {
   "cell_type": "code",
   "execution_count": 88,
   "metadata": {},
   "outputs": [
    {
     "data": {
      "image/png": "[encoded data removed]",
      "text/plain": [
       "<Figure size 720x432 with 1 Axes>"
      ]
     },
     "metadata": {
      "needs_background": "light"
     },
     "output_type": "display_data"
    }
   ],
   "source": [
    "# bar chart of suspected marijuana possession proportions by race \n",
    "x_values = ['NATIVE', 'ASIAN / PACIFIC ISLANDER', 'BLACK', 'BLACK HISPANIC', 'WHITE', 'WHITE HISPANIC']\n",
    "y_values = ctable['mj_per']\n",
    "\n",
    "fig, axs = plt.subplots(figsize=(10, 6)) # Change the figure size here       \n",
    "axs.bar(x_values, y_values, color=('mediumslateblue'), width=0.7) # You specify the color here     \n",
    "axs.set_title(\"Proportion suspected of marijuana possession of those stopped\", fontsize=20, fontweight=\"bold\")   \n",
    "axs.set_xlabel(\"Race\", fontsize=14)\n",
    "axs.set_ylabel(\"Proportion suspected\", fontsize=14)\n",
    "axs.tick_params(labelsize=10) \n",
    "\n",
    "plt.text(x=-0.15, y=0, s=\"0.000\")\n",
    "plt.text(x=0.85, y=0.0136, s=\"0.014\")\n",
    "plt.text(x=1.85, y=0.021, s=\"0.021\")\n",
    "plt.text(x=2.85, y=0.0307, s=\"0.031\")\n",
    "plt.text(x=3.85, y=0.0065, s=\"0.007\")\n",
    "plt.text(x=4.85, y=0.0328, s=\"0.033\")\n",
    "plt.text(x=2.2, y=-.006, s=\"Source: NYPD 2018 Stop and Frisk Data [accessed Dec 2020]\")\n",
    "plt.show() "
   ]
  },
  {
   "cell_type": "code",
   "execution_count": 89,
   "metadata": {},
   "outputs": [
    {
     "data": {
      "image/png": "[encoded data removed]",
      "text/plain": [
       "<Figure size 720x432 with 1 Axes>"
      ]
     },
     "metadata": {
      "needs_background": "light"
     },
     "output_type": "display_data"
    }
   ],
   "source": [
    "# bar chart of suspected menacing proportions by race \n",
    "x_values = ['NATIVE', 'ASIAN / PACIFIC ISLANDER', 'BLACK', 'BLACK HISPANIC', 'WHITE', 'WHITE HISPANIC']\n",
    "y_values = ctable['menacing_per']\n",
    "\n",
    "fig, axs = plt.subplots(figsize=(10, 6)) # Change the figure size here       \n",
    "axs.bar(x_values, y_values, color=('mediumslateblue'), width=0.7) # You specify the color here     \n",
    "axs.set_title(\"Proportion suspected of menacing of those stopped\", fontsize=20, fontweight=\"bold\")   \n",
    "axs.set_xlabel(\"Race\", fontsize=14)\n",
    "axs.set_ylabel(\"Proportion suspected\", fontsize=14)\n",
    "axs.tick_params(labelsize=10) \n",
    "\n",
    "plt.text(x=-0.15, y=0, s=\"0.000\")\n",
    "plt.text(x=0.85, y=0.0408, s=\"0.041\")\n",
    "plt.text(x=1.85, y=0.021, s=\"0.021\")\n",
    "plt.text(x=2.85, y=0.0267, s=\"0.027\")\n",
    "plt.text(x=3.85, y=0.0103, s=\"0.010\")\n",
    "plt.text(x=4.85, y=0.0182, s=\"0.018\")\n",
    "plt.text(x=2.2, y=-.006, s=\"Source: NYPD 2018 Stop and Frisk Data [accessed Dec 2020]\")\n",
    "plt.show() "
   ]
  },
  {
   "cell_type": "code",
   "execution_count": 90,
   "metadata": {},
   "outputs": [
    {
     "data": {
      "text/plain": [
       "BROOKLYN         3632\n",
       "MANHATTAN        2857\n",
       "BRONX            2331\n",
       "QUEENS           1848\n",
       "STATEN ISLAND     340\n",
       "Name: STOP_LOCATION_BORO_NAME, dtype: int64"
      ]
     },
     "execution_count": 90,
     "metadata": {},
     "output_type": "execute_result"
    }
   ],
   "source": [
    "#the final test is on the breakdown of boroughs. i will make a csv from these value counts \n",
    "data['STOP_LOCATION_BORO_NAME'].value_counts()"
   ]
  },
  {
   "cell_type": "code",
   "execution_count": 91,
   "metadata": {},
   "outputs": [
    {
     "data": {
      "text/html": [
       "<div>\n",
       "<style scoped>\n",
       "    .dataframe tbody tr th:only-of-type {\n",
       "        vertical-align: middle;\n",
       "    }\n",
       "\n",
       "    .dataframe tbody tr th {\n",
       "        vertical-align: top;\n",
       "    }\n",
       "\n",
       "    .dataframe thead th {\n",
       "        text-align: right;\n",
       "    }\n",
       "</style>\n",
       "<table border=\"1\" class=\"dataframe\">\n",
       "  <thead>\n",
       "    <tr style=\"text-align: right;\">\n",
       "      <th></th>\n",
       "      <th>Unnamed: 0</th>\n",
       "      <th>SAF</th>\n",
       "      <th>Population</th>\n",
       "    </tr>\n",
       "  </thead>\n",
       "  <tbody>\n",
       "    <tr>\n",
       "      <th>0</th>\n",
       "      <td>Brooklyn</td>\n",
       "      <td>3632</td>\n",
       "      <td>2559903</td>\n",
       "    </tr>\n",
       "    <tr>\n",
       "      <th>1</th>\n",
       "      <td>Manhattan</td>\n",
       "      <td>2857</td>\n",
       "      <td>1628706</td>\n",
       "    </tr>\n",
       "    <tr>\n",
       "      <th>2</th>\n",
       "      <td>Bronx</td>\n",
       "      <td>2331</td>\n",
       "      <td>1418207</td>\n",
       "    </tr>\n",
       "    <tr>\n",
       "      <th>3</th>\n",
       "      <td>Queens</td>\n",
       "      <td>1848</td>\n",
       "      <td>2253858</td>\n",
       "    </tr>\n",
       "    <tr>\n",
       "      <th>4</th>\n",
       "      <td>Staten Island</td>\n",
       "      <td>340</td>\n",
       "      <td>476143</td>\n",
       "    </tr>\n",
       "  </tbody>\n",
       "</table>\n",
       "</div>"
      ],
      "text/plain": [
       "      Unnamed: 0   SAF  Population\n",
       "0       Brooklyn  3632     2559903\n",
       "1      Manhattan  2857     1628706\n",
       "2          Bronx  2331     1418207\n",
       "3         Queens  1848     2253858\n",
       "4  Staten Island   340      476143"
      ]
     },
     "execution_count": 91,
     "metadata": {},
     "output_type": "execute_result"
    }
   ],
   "source": [
    "#uploading csv file i made of the boroughs' stops and overall population\n",
    "boro = pd.read_csv('/Users/tarashabazaz/Downloads/borough2.csv')\n",
    "boro"
   ]
  },
  {
   "cell_type": "code",
   "execution_count": 92,
   "metadata": {},
   "outputs": [
    {
     "data": {
      "text/html": [
       "<div>\n",
       "<style scoped>\n",
       "    .dataframe tbody tr th:only-of-type {\n",
       "        vertical-align: middle;\n",
       "    }\n",
       "\n",
       "    .dataframe tbody tr th {\n",
       "        vertical-align: top;\n",
       "    }\n",
       "\n",
       "    .dataframe thead th {\n",
       "        text-align: right;\n",
       "    }\n",
       "</style>\n",
       "<table border=\"1\" class=\"dataframe\">\n",
       "  <thead>\n",
       "    <tr style=\"text-align: right;\">\n",
       "      <th></th>\n",
       "      <th>Borough</th>\n",
       "      <th>SAF</th>\n",
       "      <th>Population</th>\n",
       "    </tr>\n",
       "  </thead>\n",
       "  <tbody>\n",
       "    <tr>\n",
       "      <th>0</th>\n",
       "      <td>Brooklyn</td>\n",
       "      <td>3632</td>\n",
       "      <td>2559903</td>\n",
       "    </tr>\n",
       "    <tr>\n",
       "      <th>1</th>\n",
       "      <td>Manhattan</td>\n",
       "      <td>2857</td>\n",
       "      <td>1628706</td>\n",
       "    </tr>\n",
       "    <tr>\n",
       "      <th>2</th>\n",
       "      <td>Bronx</td>\n",
       "      <td>2331</td>\n",
       "      <td>1418207</td>\n",
       "    </tr>\n",
       "    <tr>\n",
       "      <th>3</th>\n",
       "      <td>Queens</td>\n",
       "      <td>1848</td>\n",
       "      <td>2253858</td>\n",
       "    </tr>\n",
       "    <tr>\n",
       "      <th>4</th>\n",
       "      <td>Staten Island</td>\n",
       "      <td>340</td>\n",
       "      <td>476143</td>\n",
       "    </tr>\n",
       "  </tbody>\n",
       "</table>\n",
       "</div>"
      ],
      "text/plain": [
       "         Borough   SAF  Population\n",
       "0       Brooklyn  3632     2559903\n",
       "1      Manhattan  2857     1628706\n",
       "2          Bronx  2331     1418207\n",
       "3         Queens  1848     2253858\n",
       "4  Staten Island   340      476143"
      ]
     },
     "execution_count": 92,
     "metadata": {},
     "output_type": "execute_result"
    }
   ],
   "source": [
    "#renaming columns\n",
    "boro.columns= ['Borough', 'SAF', 'Population']\n",
    "boro"
   ]
  },
  {
   "cell_type": "code",
   "execution_count": 93,
   "metadata": {},
   "outputs": [
    {
     "data": {
      "image/png": "[encoded data removed]",
      "text/plain": [
       "<Figure size 360x360 with 1 Axes>"
      ]
     },
     "metadata": {},
     "output_type": "display_data"
    }
   ],
   "source": [
    "#making pie chart of SAF stops broken down by borough\n",
    "x_values = boro['Borough']\n",
    "y_values = boro['SAF']\n",
    "\n",
    "import matplotlib.pyplot as plt\n",
    "\n",
    "percent = y_values / sum(y_values) * 100\n",
    "label = [[] for i in range(len(x_values))]\n",
    "for i in range(len(x_values)):\n",
    "    label[i] = '{} ({:.2f}%)'.format(x_values[i],percent[i])\n",
    "\n",
    "fig, axs = plt.subplots(figsize=(5, 5)) # change figure size here\n",
    "pie = axs.pie(y_values, shadow=True, startangle=90, colors=['darkblue', 'darkmagenta', 'blueviolet', 'orchid', 'thistle'])\n",
    "axs.axis('equal')\n",
    "plt.legend(pie[0],label, bbox_to_anchor=(1.3,0.5), loc=\"center right\", fontsize=12, \n",
    "           bbox_transform=plt.gcf().transFigure)\n",
    "plt.title('Stop and Frisk Enforcement Across Boroughs',fontweight=\"bold\", fontsize=15, pad=20)\n",
    "plt.text(x = 0.9, y= -.7, s=\"Source: NYPD 2018 Stop and Frisk Data\")\n",
    "plt.text(x=0.9, y=-.8, s=\"[accessed Dec 2020]\")\n",
    "plt.show()"
   ]
  },
  {
   "cell_type": "code",
   "execution_count": 94,
   "metadata": {},
   "outputs": [
    {
     "data": {
      "image/png": "[encoded data removed]",
      "text/plain": [
       "<Figure size 360x360 with 1 Axes>"
      ]
     },
     "metadata": {},
     "output_type": "display_data"
    }
   ],
   "source": [
    "#pie chart of population of each borough, making up overall NYC population\n",
    "x_values = boro['Borough']\n",
    "y_values = boro['Population']\n",
    "\n",
    "import matplotlib.pyplot as plt\n",
    "\n",
    "percent = y_values / sum(y_values) * 100\n",
    "label = [[] for i in range(len(x_values))]\n",
    "for i in range(len(x_values)):\n",
    "    label[i] = '{} ({:.2f}%)'.format(x_values[i],percent[i])\n",
    "\n",
    "fig, axs = plt.subplots(figsize=(5, 5)) # change figure size here\n",
    "pie = axs.pie(y_values, shadow=True, startangle=90, colors=['darkblue', 'darkmagenta', 'blueviolet', 'orchid', 'thistle'])\n",
    "axs.axis('equal')\n",
    "plt.legend(pie[0],label, bbox_to_anchor=(1.3,0.5), loc=\"center right\", fontsize=12, \n",
    "           bbox_transform=plt.gcf().transFigure)\n",
    "plt.title('NYC Population Distribution Across Boroughs',fontweight=\"bold\", fontsize=15, pad=20)\n",
    "plt.text(x = 0.9, y= -.7, s=\"Source: U.S. Census Bureau 2019\")\n",
    "plt.text(x=0.9, y=-.8, s=\"[accessed Dec 2020]\")\n",
    "plt.show()\n",
    "plt.show()"
   ]
  },
  {
   "cell_type": "code",
   "execution_count": 95,
   "metadata": {},
   "outputs": [
    {
     "name": "stdout",
     "output_type": "stream",
     "text": [
      "Sample proportion is: 0.21175508720930233\n",
      "95% CI is: (0.2041228936575459, 0.21938728076105876)\n"
     ]
    }
   ],
   "source": [
    "#proportion of stops made in the Bronx\n",
    "CI_prop(2331, 11008)"
   ]
  },
  {
   "cell_type": "code",
   "execution_count": 96,
   "metadata": {},
   "outputs": [
    {
     "name": "stdout",
     "output_type": "stream",
     "text": [
      "Sample proportion is: 0.16787790697674418\n",
      "95% CI is: (0.1608957089768661, 0.17486010497662227)\n"
     ]
    }
   ],
   "source": [
    "#proportion of stops made in Queens \n",
    "CI_prop(1848, 11008)"
   ]
  }
 ],
 "metadata": {
  "kernelspec": {
   "display_name": "Python 3",
   "language": "python",
   "name": "python3"
  },
  "language_info": {
   "codemirror_mode": {
    "name": "ipython",
    "version": 3
   },
   "file_extension": ".py",
   "mimetype": "text/x-python",
   "name": "python",
   "nbconvert_exporter": "python",
   "pygments_lexer": "ipython3",
   "version": "3.8.5"
  }
 },
 "nbformat": 4,
 "nbformat_minor": 4
}
